{
 "cells": [
  {
   "cell_type": "code",
   "execution_count": 7,
   "metadata": {
    "collapsed": true
   },
   "outputs": [],
   "source": [
    "from collections import namedtuple\n",
    "edge = namedtuple('edge', ['letter', 'digit', 'value'])"
   ]
  },
  {
   "cell_type": "code",
   "execution_count": 8,
   "metadata": {
    "collapsed": true
   },
   "outputs": [],
   "source": [
    "class Automata():\n",
    "    def __init__(self, G):\n",
    "        self.G = G\n",
    "    def __call__(self, token):\n",
    "        u = 0\n",
    "        for c in token:\n",
    "            if c.isalpha(): u = self.G[u].letter\n",
    "            elif c.isdigit(): u = self.G[u].digit\n",
    "            else: u = -1\n",
    "            if u == -1:\n",
    "                return False\n",
    "        return self.G[u].value"
   ]
  },
  {
   "cell_type": "code",
   "execution_count": 9,
   "metadata": {
    "collapsed": true
   },
   "outputs": [],
   "source": [
    "G10 = {\n",
    "    0:edge(1,-1,False),\n",
    "    1:edge(1,1,True)\n",
    "}\n",
    "G11 = {\n",
    "    0:edge(-1,1,False),\n",
    "    1:edge(-1,1,True)\n",
    "}\n",
    "automata0 = Automata(G10)\n",
    "automata1 = Automata(G11)"
   ]
  },
  {
   "cell_type": "code",
   "execution_count": 21,
   "metadata": {
    "collapsed": false
   },
   "outputs": [],
   "source": [
    "def check(token):\n",
    "    if token == 'begin': return 1\n",
    "    elif token == 'if': return 2\n",
    "    elif token == 'then': return 3\n",
    "    elif token == 'while': return 4\n",
    "    elif token == 'do': return 5\n",
    "    elif token == 'end': return 6\n",
    "    elif token == '+': return 13\n",
    "    elif token == '-': return 14\n",
    "    elif token == '*': return 15\n",
    "    elif token == '/': return 16\n",
    "    elif token == ':': return 17\n",
    "    elif token == ':=': return 18\n",
    "    elif token == '<': return 20\n",
    "    elif token == '<>': return 21\n",
    "    elif token == '<=': return 22\n",
    "    elif token == '>': return 23\n",
    "    elif token == '>=': return 24\n",
    "    elif token == '=': return 25\n",
    "    elif token == ';': return 26\n",
    "    elif token == '(': return 27\n",
    "    elif token == ')': return 28\n",
    "    elif token == '#': return 0\n",
    "    elif automata0(token): return 10\n",
    "    elif automata1(token): return 11\n",
    "    else: return -1"
   ]
  },
  {
   "cell_type": "code",
   "execution_count": 32,
   "metadata": {
    "collapsed": true
   },
   "outputs": [],
   "source": [
    "def lexical_analysis(code):\n",
    "    tokens = code.split()\n",
    "    ret = []\n",
    "    tem = []\n",
    "    for token in tokens:\n",
    "        substr = ''\n",
    "        isAorD = True\n",
    "        for c in token:\n",
    "            if isAorD != (c.isalpha() or c.isdigit()):\n",
    "                if substr != '': tem.append(substr)\n",
    "                substr = ''\n",
    "                isAorD = (c.isalpha() or c.isdigit())\n",
    "            substr += c\n",
    "        if substr != '': tem.append(substr)\n",
    "    tokens = tem\n",
    "    \n",
    "    for token in tokens:\n",
    "        flag = check(token)\n",
    "        if flag == -1: return -1\n",
    "        ret.append((flag, token))\n",
    "    \n",
    "    for t in ret:\n",
    "        print t"
   ]
  },
  {
   "cell_type": "code",
   "execution_count": 35,
   "metadata": {
    "collapsed": false
   },
   "outputs": [
    {
     "name": "stdout",
     "output_type": "stream",
     "text": [
      "(1, 'begin')\n",
      "(10, 'x')\n",
      "(18, ':=')\n",
      "(11, '9')\n",
      "(26, ';')\n",
      "(2, 'if')\n",
      "(10, 'x')\n",
      "(23, '>')\n",
      "(11, '9')\n",
      "(10, 'thenn')\n",
      "(10, 'x')\n",
      "(18, ':=')\n",
      "(11, '2')\n",
      "(15, '*')\n",
      "(10, 'x')\n",
      "(13, '+')\n",
      "(11, '1')\n",
      "(16, '/')\n",
      "(11, '3')\n",
      "(26, ';')\n",
      "(6, 'end')\n",
      "(0, '#')\n"
     ]
    }
   ],
   "source": [
    "lexical_analysis('begin x:=9; if x>9 thenn x:=2*x+1/3; end #')"
   ]
  },
  {
   "cell_type": "code",
   "execution_count": null,
   "metadata": {
    "collapsed": true
   },
   "outputs": [],
   "source": []
  },
  {
   "cell_type": "code",
   "execution_count": null,
   "metadata": {
    "collapsed": true
   },
   "outputs": [],
   "source": []
  }
 ],
 "metadata": {
  "kernelspec": {
   "display_name": "Python 2",
   "language": "python",
   "name": "python2"
  },
  "language_info": {
   "codemirror_mode": {
    "name": "ipython",
    "version": 2
   },
   "file_extension": ".py",
   "mimetype": "text/x-python",
   "name": "python",
   "nbconvert_exporter": "python",
   "pygments_lexer": "ipython2",
   "version": "2.7.13"
  }
 },
 "nbformat": 4,
 "nbformat_minor": 2
}
