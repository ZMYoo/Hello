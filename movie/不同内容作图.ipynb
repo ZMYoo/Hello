{
 "cells": [
  {
   "cell_type": "code",
   "execution_count": 1,
   "metadata": {
    "collapsed": false
   },
   "outputs": [],
   "source": [
    "import pandas as pd\n",
    "import numpy as np\n",
    "\n",
    "import matplotlib.mlab as mlab\n",
    "import matplotlib.pyplot as plt\n",
    "import seaborn as sns\n",
    "%matplotlib inline"
   ]
  },
  {
   "cell_type": "markdown",
   "metadata": {},
   "source": [
    "## 影院加票房的排序"
   ]
  },
  {
   "cell_type": "code",
   "execution_count": 2,
   "metadata": {
    "collapsed": false
   },
   "outputs": [],
   "source": [
    "sort_box = pd.read_csv(\"E:/MoiveData/sort_box_office.csv\",encoding='gbk')"
   ]
  },
  {
   "cell_type": "code",
   "execution_count": 3,
   "metadata": {
    "collapsed": false
   },
   "outputs": [
    {
     "data": {
      "text/plain": [
       "34956"
      ]
     },
     "execution_count": 3,
     "metadata": {},
     "output_type": "execute_result"
    }
   ],
   "source": [
    "sort_box[:2]\n",
    "sort_box.size"
   ]
  },
  {
   "cell_type": "code",
   "execution_count": 4,
   "metadata": {
    "collapsed": false
   },
   "outputs": [],
   "source": [
    "sort1 = sort_box.drop(['MovieID','MovieEName','MovieType','MovieLength','MovieStandard','MovieAvgPrice','MovieAvgPeople','MovieWomIndex','Remark'],axis = 1)\n",
    "sort = sort1[:20000]\n",
    "#sort"
   ]
  },
  {
   "cell_type": "code",
   "execution_count": 5,
   "metadata": {
    "collapsed": false
   },
   "outputs": [],
   "source": [
    "cinema_box = {}\n",
    "for _,row in sort1.iterrows():\n",
    "    movie_name = row[\"MovieCName\"]\n",
    "    box = row[\"MovieSumBoxOffice\"]\n",
    "    cinema_box[movie_name] = box"
   ]
  },
  {
   "cell_type": "code",
   "execution_count": null,
   "metadata": {
    "collapsed": true
   },
   "outputs": [],
   "source": []
  },
  {
   "cell_type": "code",
   "execution_count": 33,
   "metadata": {
    "collapsed": false
   },
   "outputs": [
    {
     "ename": "AttributeError",
     "evalue": "'module' object has no attribute 'barplot'",
     "output_type": "error",
     "traceback": [
      "\u001b[0;31m---------------------------------------------------------------------------\u001b[0m",
      "\u001b[0;31mAttributeError\u001b[0m                            Traceback (most recent call last)",
      "\u001b[0;32m<ipython-input-33-e90848aaccfe>\u001b[0m in \u001b[0;36m<module>\u001b[0;34m()\u001b[0m\n\u001b[1;32m      1\u001b[0m \u001b[0mnum\u001b[0m \u001b[1;33m=\u001b[0m \u001b[1;36m1000\u001b[0m\u001b[1;33m\u001b[0m\u001b[0m\n\u001b[0;32m----> 2\u001b[0;31m \u001b[0mplt\u001b[0m\u001b[1;33m.\u001b[0m\u001b[0mbarplot\u001b[0m\u001b[1;33m(\u001b[0m\u001b[0msort\u001b[0m\u001b[1;33m[\u001b[0m\u001b[1;33m:\u001b[0m\u001b[0mnum\u001b[0m\u001b[1;33m]\u001b[0m\u001b[1;33m[\u001b[0m\u001b[1;34m'MovieSumBoxOffice'\u001b[0m\u001b[1;33m]\u001b[0m\u001b[1;33m)\u001b[0m\u001b[1;33m\u001b[0m\u001b[0m\n\u001b[0m\u001b[1;32m      3\u001b[0m \u001b[0mplt\u001b[0m\u001b[1;33m.\u001b[0m\u001b[0myticks\u001b[0m\u001b[1;33m(\u001b[0m\u001b[1;33m[\u001b[0m\u001b[0mi\u001b[0m\u001b[1;33m*\u001b[0m\u001b[1;36m0.5\u001b[0m\u001b[1;33m*\u001b[0m\u001b[1;36m10e8\u001b[0m\u001b[1;32mfor\u001b[0m \u001b[0mi\u001b[0m \u001b[1;32min\u001b[0m \u001b[0mrange\u001b[0m\u001b[1;33m(\u001b[0m\u001b[1;36m10\u001b[0m\u001b[1;33m)\u001b[0m\u001b[1;33m]\u001b[0m\u001b[1;33m)\u001b[0m\u001b[1;33m\u001b[0m\u001b[0m\n\u001b[1;32m      4\u001b[0m \u001b[0mplt\u001b[0m\u001b[1;33m.\u001b[0m\u001b[0mshow\u001b[0m\u001b[1;33m(\u001b[0m\u001b[1;33m)\u001b[0m\u001b[1;33m\u001b[0m\u001b[0m\n",
      "\u001b[0;31mAttributeError\u001b[0m: 'module' object has no attribute 'barplot'"
     ]
    }
   ],
   "source": [
    "num = 1000\n",
    "plt.plot(sort[:num]['MovieSumBoxOffice'])\n",
    "plt.yticks([i*0.5*10e8for i in range(10)])\n",
    "plt.show()"
   ]
  },
  {
   "cell_type": "markdown",
   "metadata": {},
   "source": [
    "## BarLine "
   ]
  },
  {
   "cell_type": "code",
   "execution_count": 54,
   "metadata": {
    "collapsed": true
   },
   "outputs": [],
   "source": [
    "from pyecharts import Bar, Line, Overlap\n",
    "\n",
    "attr = [row[\"MovieCName\"] for _,row in sort.iterrows()]\n",
    "v1 = [cinema_box[row[\"MovieCName\"]] for _,row in sort.iterrows()]\n",
    "v2 = [cinema_box[row[\"MovieCName\"]] for _,row in sort.iterrows()]\n",
    "bar = Bar(\"票房前10的电影\")\n",
    "bar.add(\"bar\", attr, v1)\n",
    "line = Line()\n",
    "line.add(\"line\", attr, v1)\n",
    "\n",
    "overlap = Overlap()\n",
    "overlap.add(bar)\n",
    "overlap.add(line)\n",
    "overlap.render('barline.html')"
   ]
  },
  {
   "cell_type": "markdown",
   "metadata": {},
   "source": [
    "## 可以移动数据条的条形图数据"
   ]
  },
  {
   "cell_type": "code",
   "execution_count": 6,
   "metadata": {
    "collapsed": false
   },
   "outputs": [],
   "source": [
    "import random\n",
    "from pyecharts import Bar\n",
    "\n",
    "#attr = [\"{}天\".format(i) for i in range(30)]\n",
    "#v1 = [random.randint(1, 30) for _ in range(30)]\n",
    "\n",
    "x = [row[\"MovieCName\"] for _,row in sort.iterrows()]\n",
    "y = [cinema_box[row[\"MovieCName\"]] / 1e4 for _,row in sort.iterrows()] \n",
    "bar = Bar(\"2017年X月-X月电影票房整体数据统计（万）\")\n",
    "bar.add(\"\", x, y, is_datazoom_show=True,datazoom_range=[500, 6000],ylable = \"aaa\")# is_label_show=True,\n",
    "bar.render('CinemaSumBox.html')"
   ]
  },
  {
   "cell_type": "markdown",
   "metadata": {},
   "source": [
    "## 3D数据图，x，y是axis，z是data。"
   ]
  },
  {
   "cell_type": "code",
   "execution_count": 18,
   "metadata": {
    "collapsed": false
   },
   "outputs": [],
   "source": [
    "\n",
    "from pyecharts import Bar3D\n",
    "\n",
    "bar3d = Bar3D(\"3D 影院数据分析\", width=1200, height=600)\n",
    "x_axis = [row[\"MovieCName\"] for _,row in sort.iterrows()]\n",
    "y_axis = [row[\"MovieReleaseTime\"] for _,row in sort.iterrows()]\n",
    "data = [cinema_box[row[\"MovieCName\"]] for _,row in sort.iterrows()]\n",
    "range_color = ['#313695', '#4575b4', '#74add1', '#abd9e9', '#e0f3f8', '#ffffbf',\n",
    "               '#fee090', '#fdae61', '#f46d43', '#d73027', '#a50026']\n",
    "bar3d.add(\"\", x_axis, y_axis, data ,\n",
    "          is_visualmap=True,\n",
    "          visual_range=[100000000,600000000], \n",
    "          visual_range_color=range_color, grid3d_width=200, grid3d_depth=80)\n",
    "bar3d.render('aaa.html')"
   ]
  },
  {
   "cell_type": "markdown",
   "metadata": {},
   "source": [
    "## 普通的条形图"
   ]
  },
  {
   "cell_type": "code",
   "execution_count": 87,
   "metadata": {
    "collapsed": false,
    "scrolled": true
   },
   "outputs": [
    {
     "data": {
      "image/png": "[encoded data removed]",
      "text/plain": [
       "<matplotlib.figure.Figure at 0xe1e0c88>"
      ]
     },
     "metadata": {},
     "output_type": "display_data"
    }
   ],
   "source": [
    "#series = sort['MovieCName'].\n",
    "fig, ax = plt.subplots()\n",
    "ax.plot(np.random.rand(20), '-o', ms=20, lw=2, alpha=0.7, mfc='orange')\n",
    "ax.grid()\n",
    "\n",
    "# position bottom right\n",
    "fig.text(0.95, 0.1, 'sumbox',\n",
    "         fontsize=50, color='gray',\n",
    "         ha='right', va='bottom', alpha=0.5)\n",
    "\n",
    "plt.show()"
   ]
  },
  {
   "cell_type": "markdown",
   "metadata": {},
   "source": [
    "## 气泡图scatter需要参数都是数据\n",
    "fig = plt.figure()\n",
    "ax = fig.add_subplot(111)\n",
    "ax.scatter(sort['MovieSumBoxOffice'],sort['MovieCName'],s=sort['MovieSumBoxOffice']) XXX\n",
    "plt.show()"
   ]
  },
  {
   "cell_type": "code",
   "execution_count": 53,
   "metadata": {
    "collapsed": false
   },
   "outputs": [
    {
     "data": {
      "image/png": "[encoded data removed]",
      "text/plain": [
       "<matplotlib.figure.Figure at 0xed82cf8>"
      ]
     },
     "metadata": {},
     "output_type": "display_data"
    }
   ],
   "source": [
    "fig = plt.figure()\n",
    "ax = fig.add_subplot(111)\n",
    "x = [row[\"MovieCName\"] for _,row in sort.iterrows()]\n",
    "y = [cinema_box[row[\"MovieCName\"]] for _,row in sort.iterrows()]\n",
    "y = np.array(y)\n",
    "ax.hist(y, bins=10)\n",
    "plt.title('Age distribution')\n",
    "plt.xlabel('MovieCName')\n",
    "plt.ylabel('MovieSumBoxOffice')\n",
    "plt.show()"
   ]
  },
  {
   "cell_type": "code",
   "execution_count": 7,
   "metadata": {
    "collapsed": true
   },
   "outputs": [],
   "source": [
    "director = pd.read_csv(\"E:/MoiveData/sort_director_SumBoxOffice.csv\",encoding='gbk')"
   ]
  },
  {
   "cell_type": "code",
   "execution_count": 8,
   "metadata": {
    "collapsed": false
   },
   "outputs": [
    {
     "data": {
      "text/html": [
       "<div>\n",
       "<table border=\"1\" class=\"dataframe\">\n",
       "  <thead>\n",
       "    <tr style=\"text-align: right;\">\n",
       "      <th></th>\n",
       "      <th>ActorID</th>\n",
       "      <th>ActorSumBoxOffice</th>\n",
       "      <th>ActorCName</th>\n",
       "    </tr>\n",
       "  </thead>\n",
       "  <tbody>\n",
       "    <tr>\n",
       "      <th>0</th>\n",
       "      <td>6060.0</td>\n",
       "      <td>4.639100e+09</td>\n",
       "      <td>周星驰</td>\n",
       "    </tr>\n",
       "    <tr>\n",
       "      <th>1</th>\n",
       "      <td>73010.0</td>\n",
       "      <td>4.600650e+09</td>\n",
       "      <td>迈克尔·贝</td>\n",
       "    </tr>\n",
       "  </tbody>\n",
       "</table>\n",
       "</div>"
      ],
      "text/plain": [
       "   ActorID  ActorSumBoxOffice ActorCName\n",
       "0   6060.0       4.639100e+09        周星驰\n",
       "1  73010.0       4.600650e+09      迈克尔·贝"
      ]
     },
     "execution_count": 8,
     "metadata": {},
     "output_type": "execute_result"
    }
   ],
   "source": [
    "#1961\n",
    "director[:2]"
   ]
  },
  {
   "cell_type": "markdown",
   "metadata": {},
   "source": [
    "# 可以实现中文标签的绘图"
   ]
  },
  {
   "cell_type": "code",
   "execution_count": 11,
   "metadata": {
    "collapsed": false
   },
   "outputs": [
    {
     "data": {
      "image/png": "[encoded data removed]",
      "text/plain": [
       "<matplotlib.figure.Figure at 0xc1344a8>"
      ]
     },
     "metadata": {},
     "output_type": "display_data"
    }
   ],
   "source": [
    "num = 20\n",
    "plt.bar(range(num),director[:num]['ActorSumBoxOffice'], tick_label=director[:num]['ActorCName'],\n",
    "        width = 0.8,align='center',alpha=0.5)\n",
    "plt.yticks([i*0.5*10e8for i in range(10)])\n",
    "plt.xticks(size='small',rotation=90)\n",
    "plt.title('Director_SumBoxOffice-top20')\n",
    "plt.xlabel('MovieCName')\n",
    "plt.ylabel('MovieSumBoxOffice')\n",
    "plt.rcParams['font.sans-serif']=['SimHei'] #用来正常显示中文标签\n",
    "plt.rcParams['axes.unicode_minus']=False #用来正常显示负号\n",
    "#plt.xlim(0,4.0) # x的范围\n",
    "#plt.grid()# 网格线\n",
    "plt.show()"
   ]
  },
  {
   "cell_type": "code",
   "execution_count": 16,
   "metadata": {
    "collapsed": false,
    "scrolled": true
   },
   "outputs": [
    {
     "data": {
      "text/html": [
       "<div>\n",
       "<table border=\"1\" class=\"dataframe\">\n",
       "  <thead>\n",
       "    <tr style=\"text-align: right;\">\n",
       "      <th></th>\n",
       "      <th>ActorID</th>\n",
       "      <th>ActorSumBoxOffice</th>\n",
       "      <th>ActorCName</th>\n",
       "    </tr>\n",
       "  </thead>\n",
       "  <tbody>\n",
       "    <tr>\n",
       "      <th>0</th>\n",
       "      <td>5302</td>\n",
       "      <td>11853137000</td>\n",
       "      <td>邓超</td>\n",
       "    </tr>\n",
       "    <tr>\n",
       "      <th>1</th>\n",
       "      <td>2577</td>\n",
       "      <td>9449127000</td>\n",
       "      <td>曾志伟</td>\n",
       "    </tr>\n",
       "    <tr>\n",
       "      <th>2</th>\n",
       "      <td>1168</td>\n",
       "      <td>8950024000</td>\n",
       "      <td>成龙</td>\n",
       "    </tr>\n",
       "    <tr>\n",
       "      <th>3</th>\n",
       "      <td>8448</td>\n",
       "      <td>8946867000</td>\n",
       "      <td>吴京</td>\n",
       "    </tr>\n",
       "    <tr>\n",
       "      <th>4</th>\n",
       "      <td>2201375</td>\n",
       "      <td>8647264000</td>\n",
       "      <td>吴亦凡</td>\n",
       "    </tr>\n",
       "    <tr>\n",
       "      <th>5</th>\n",
       "      <td>199112</td>\n",
       "      <td>8517745000</td>\n",
       "      <td>范·迪塞尔</td>\n",
       "    </tr>\n",
       "    <tr>\n",
       "      <th>6</th>\n",
       "      <td>2414</td>\n",
       "      <td>8427197000</td>\n",
       "      <td>余男</td>\n",
       "    </tr>\n",
       "    <tr>\n",
       "      <th>7</th>\n",
       "      <td>95644</td>\n",
       "      <td>8386152000</td>\n",
       "      <td>泰瑞斯·吉布森</td>\n",
       "    </tr>\n",
       "    <tr>\n",
       "      <th>8</th>\n",
       "      <td>48984</td>\n",
       "      <td>8096302000</td>\n",
       "      <td>斯坦·李</td>\n",
       "    </tr>\n",
       "    <tr>\n",
       "      <th>9</th>\n",
       "      <td>3341</td>\n",
       "      <td>7948453000</td>\n",
       "      <td>黄渤</td>\n",
       "    </tr>\n",
       "  </tbody>\n",
       "</table>\n",
       "</div>"
      ],
      "text/plain": [
       "   ActorID  ActorSumBoxOffice ActorCName\n",
       "0     5302        11853137000         邓超\n",
       "1     2577         9449127000        曾志伟\n",
       "2     1168         8950024000         成龙\n",
       "3     8448         8946867000         吴京\n",
       "4  2201375         8647264000        吴亦凡\n",
       "5   199112         8517745000      范·迪塞尔\n",
       "6     2414         8427197000         余男\n",
       "7    95644         8386152000    泰瑞斯·吉布森\n",
       "8    48984         8096302000       斯坦·李\n",
       "9     3341         7948453000         黄渤"
      ]
     },
     "execution_count": 16,
     "metadata": {},
     "output_type": "execute_result"
    }
   ],
   "source": [
    "actor = pd.read_csv(\"E:/MoiveData/sort_actor_SumBoxOffice.csv\",encoding='gbk')\n",
    "actor1 = actor[:10]\n",
    "actor1"
   ]
  },
  {
   "cell_type": "code",
   "execution_count": 17,
   "metadata": {
    "collapsed": false
   },
   "outputs": [],
   "source": [
    "actor_box = {}\n",
    "\n",
    "for _,row in actor1.iterrows():\n",
    "    name = row[\"ActorCName\"]\n",
    "    D_box = row[\"ActorSumBoxOffice\"]\n",
    "    actor_box[name] = D_box"
   ]
  },
  {
   "cell_type": "markdown",
   "metadata": {},
   "source": [
    "### top10演员票房"
   ]
  },
  {
   "cell_type": "code",
   "execution_count": 18,
   "metadata": {
    "collapsed": false
   },
   "outputs": [],
   "source": [
    "from pyecharts import Bar, Line, Overlap\n",
    "\n",
    "attr = [row[\"ActorCName\"] for _,row in actor1.iterrows()]\n",
    "v1 = [actor_box[row[\"ActorCName\"]]/1e4 for _,row in actor1.iterrows()]\n",
    "#v2 = [director_box[row[\"ActorCName\"]] for _,row in sort.iterrows()]\n",
    "bar = Bar(\"票房前10的演员(万)\")\n",
    "bar.add(\"bar\", attr, v1)\n",
    "line = Line()\n",
    "line.add(\"line\", attr, v1)\n",
    "\n",
    "overlap = Overlap()\n",
    "overlap.add(bar)\n",
    "overlap.add(line)\n",
    "overlap.render('barline2.html')"
   ]
  },
  {
   "cell_type": "markdown",
   "metadata": {},
   "source": [
    "### top100演员票房"
   ]
  },
  {
   "cell_type": "code",
   "execution_count": 15,
   "metadata": {
    "collapsed": false
   },
   "outputs": [],
   "source": [
    "import random\n",
    "from pyecharts import Bar\n",
    "\n",
    "#attr = [\"{}天\".format(i) for i in range(30)]\n",
    "#v1 = [random.randint(1, 30) for _ in range(30)]\n",
    "\n",
    "x = [row[\"ActorCName\"] for _,row in actor1.iterrows()]\n",
    "y = [actor_box[row[\"ActorCName\"]]/1e4 for _,row in actor1.iterrows()]\n",
    "bar = Bar(\"演员电影票房数据统计top100（万）\")\n",
    "bar.add(\"\", x, y,  is_datazoom_show=True,datazoom_range=[500000000, 6000000000])#is_label_show=True,\n",
    "bar.render('CinemaSumBox2.html')"
   ]
  },
  {
   "cell_type": "code",
   "execution_count": 130,
   "metadata": {
    "collapsed": false
   },
   "outputs": [
    {
     "data": {
      "image/png": "[encoded data removed]",
      "text/plain": [
       "<matplotlib.figure.Figure at 0xed179b0>"
      ]
     },
     "metadata": {},
     "output_type": "display_data"
    }
   ],
   "source": [
    "plt.violinplot(actor['ActorSumBoxOffice'])\n",
    "plt.show()"
   ]
  },
  {
   "cell_type": "markdown",
   "metadata": {},
   "source": [
    "## 关系气泡图"
   ]
  },
  {
   "cell_type": "code",
   "execution_count": 134,
   "metadata": {
    "collapsed": false
   },
   "outputs": [],
   "source": [
    "guanxi = pd.read_csv(\"E:/MoiveData/network_actor_weight_with_cname_no_id.csv\",encoding='gbk')"
   ]
  },
  {
   "cell_type": "code",
   "execution_count": 136,
   "metadata": {
    "collapsed": false
   },
   "outputs": [
    {
     "data": {
      "text/html": [
       "<div>\n",
       "<table border=\"1\" class=\"dataframe\">\n",
       "  <thead>\n",
       "    <tr style=\"text-align: right;\">\n",
       "      <th></th>\n",
       "      <th>Index</th>\n",
       "      <th>ActorCname_1</th>\n",
       "      <th>ActorCname_2</th>\n",
       "      <th>weight</th>\n",
       "    </tr>\n",
       "  </thead>\n",
       "  <tbody>\n",
       "    <tr>\n",
       "      <th>0</th>\n",
       "      <td>0</td>\n",
       "      <td>何炅</td>\n",
       "      <td>杜海涛</td>\n",
       "      <td>9</td>\n",
       "    </tr>\n",
       "    <tr>\n",
       "      <th>1</th>\n",
       "      <td>1</td>\n",
       "      <td>吴君如</td>\n",
       "      <td>郑中基</td>\n",
       "      <td>8</td>\n",
       "    </tr>\n",
       "  </tbody>\n",
       "</table>\n",
       "</div>"
      ],
      "text/plain": [
       "   Index ActorCname_1 ActorCname_2  weight\n",
       "0      0           何炅          杜海涛       9\n",
       "1      1          吴君如          郑中基       8"
      ]
     },
     "execution_count": 136,
     "metadata": {},
     "output_type": "execute_result"
    }
   ],
   "source": [
    "guanxi[:2]"
   ]
  },
  {
   "cell_type": "code",
   "execution_count": 161,
   "metadata": {
    "collapsed": false
   },
   "outputs": [],
   "source": [
    "from pyecharts import Pie\n",
    "\n",
    "attr = [\"动作\", \"战争\", \"军事\", \"喜剧\", \"爱情\", \"科幻\", \"怀旧\", \"犯罪\", \"奇幻\", \"运动\", \n",
    "        \"冒险\", \"惊悚\", \"动画\", \"青春\", \"剧情\", \"传记\", \"公路\", \"悬疑\", \"灾难\", \"亲情\", \n",
    "        \"穿越\", \"古装\", \"贺岁\", \"真人秀\", \"综艺大电影\", \"警匪\", \"文艺\", \"动物\", \"励志\", \"友情\", \n",
    "        \"玄幻\", \"儿童\", \"职场\", \"歌舞\", \"音乐\", \"革命\", \"武侠\", \"心理\", \"西部\", \"恐怖\", \n",
    "        \"侦探\", \"纪录片\", \"黑色幽默\", \"舞台艺术片\", \"戏曲\", \"女性\"]\n",
    "v1 = [560, 118, 8, 694, 778, 143, 18, 156, 107, 28, \n",
    "      331, 372, 316, 84, 558, 71, 9, 274, 22, 34, \n",
    "      4, 56, 3, 4, 2, 17, 7, 5, 42, 11, \n",
    "      4, 69, 9, 23, 23, 8, 22, 2, 4, 116, \n",
    "      4, 79, 1, 19, 9, 2]\n",
    "pie = Pie(\"饼图示例\")\n",
    "pie.add(\"\", attr, v1,is_label_show=True,)\n",
    "pie.render('type_movie.html')"
   ]
  },
  {
   "cell_type": "code",
   "execution_count": 150,
   "metadata": {
    "collapsed": true
   },
   "outputs": [],
   "source": [
    "pie.add??\n"
   ]
  }
 ],
 "metadata": {
  "kernelspec": {
   "display_name": "Python 2",
   "language": "python",
   "name": "python2"
  },
  "language_info": {
   "codemirror_mode": {
    "name": "ipython",
    "version": 2
   },
   "file_extension": ".py",
   "mimetype": "text/x-python",
   "name": "python",
   "nbconvert_exporter": "python",
   "pygments_lexer": "ipython2",
   "version": "2.7.13"
  }
 },
 "nbformat": 4,
 "nbformat_minor": 2
}
