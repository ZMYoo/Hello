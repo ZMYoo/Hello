{
 "cells": [
  {
   "cell_type": "code",
   "execution_count": 35,
   "metadata": {
    "collapsed": false
   },
   "outputs": [
    {
     "name": "stdout",
     "output_type": "stream",
     "text": [
      "阿勒泰 coordinates is not found\n",
      "阿克苏 coordinates is not found\n",
      "阿城 coordinates is not found\n"
     ]
    }
   ],
   "source": [
    "import random\n",
    "from pyecharts import Geo \n",
    "\n",
    "# data =[('上海', 9), (\"鄂尔多斯\", 12), (\"北京\", 12), (\"赤峰\", 12), (\"齐齐哈尔\", 14), (\"杭州\", 15)]\n",
    "geo = Geo(\"城市\", \"data\", title_color=\"#fff\", title_pos=\"center\", width=1200, height=600, background_color='#404a59')\n",
    "attr, value =geo.cast(city)\n",
    "geo.add(\" \", attr, value, type=\"effectScatter\", is_random=True, effect_scale=5)\n",
    "geo.render('ohoh')"
   ]
  },
  {
   "cell_type": "code",
   "execution_count": 10,
   "metadata": {
    "collapsed": true
   },
   "outputs": [
    {
     "ename": "NameError",
     "evalue": "name 'geo4cinema' is not defined",
     "output_type": "error",
     "traceback": [
      "\u001b[0;31m---------------------------------------------------------------------------\u001b[0m",
      "\u001b[0;31mNameError\u001b[0m                                 Traceback (most recent call last)",
      "\u001b[0;32m<ipython-input-10-bfd8f194581a>\u001b[0m in \u001b[0;36m<module>\u001b[0;34m()\u001b[0m\n\u001b[1;32m      3\u001b[0m \u001b[0mgeo\u001b[0m \u001b[1;33m=\u001b[0m \u001b[0mGeo\u001b[0m\u001b[1;33m(\u001b[0m \u001b[0mtitle_color\u001b[0m\u001b[1;33m=\u001b[0m\u001b[1;34m\"#fff\"\u001b[0m\u001b[1;33m,\u001b[0m \u001b[0mtitle_pos\u001b[0m\u001b[1;33m=\u001b[0m\u001b[1;34m\"center\"\u001b[0m\u001b[1;33m,\u001b[0m\u001b[0mwidth\u001b[0m\u001b[1;33m=\u001b[0m\u001b[1;36m1200\u001b[0m\u001b[1;33m,\u001b[0m \u001b[0mheight\u001b[0m\u001b[1;33m=\u001b[0m\u001b[1;36m600\u001b[0m\u001b[1;33m,\u001b[0m \u001b[0mbackground_color\u001b[0m\u001b[1;33m=\u001b[0m\u001b[1;34m'#404a59'\u001b[0m\u001b[1;33m)\u001b[0m\u001b[1;33m\u001b[0m\u001b[0m\n\u001b[1;32m      4\u001b[0m \u001b[1;31m# attr, value = geo.cast(data)\u001b[0m\u001b[1;33m\u001b[0m\u001b[1;33m\u001b[0m\u001b[0m\n\u001b[0;32m----> 5\u001b[0;31m geo.add(\"\", geo4cinema.keys(),\n\u001b[0m\u001b[1;32m      6\u001b[0m         \u001b[1;33m[\u001b[0m\u001b[0mi\u001b[0m\u001b[1;33m%\u001b[0m\u001b[1;36m10\u001b[0m \u001b[1;32mfor\u001b[0m \u001b[0mi\u001b[0m \u001b[1;32min\u001b[0m \u001b[0mrange\u001b[0m\u001b[1;33m(\u001b[0m\u001b[0mlen\u001b[0m\u001b[1;33m(\u001b[0m\u001b[0mgeo4cinema\u001b[0m\u001b[1;33m.\u001b[0m\u001b[0mkeys\u001b[0m\u001b[1;33m(\u001b[0m\u001b[1;33m)\u001b[0m\u001b[1;33m)\u001b[0m\u001b[1;33m)\u001b[0m\u001b[1;33m]\u001b[0m\u001b[1;33m,\u001b[0m\u001b[1;31m#钱说这个到时候要放票房；只要把表示的放上去就好了\u001b[0m\u001b[1;33m\u001b[0m\u001b[0m\n\u001b[1;32m      7\u001b[0m         \u001b[0mvisual_range\u001b[0m\u001b[1;33m=\u001b[0m\u001b[1;33m[\u001b[0m\u001b[1;36m0\u001b[0m\u001b[1;33m,\u001b[0m \u001b[1;36m100\u001b[0m\u001b[1;33m]\u001b[0m\u001b[1;33m,\u001b[0m \u001b[0mvisual_text_color\u001b[0m\u001b[1;33m=\u001b[0m\u001b[1;34m\"#fff\"\u001b[0m\u001b[1;33m,\u001b[0m \u001b[0msymbol_size\u001b[0m\u001b[1;33m=\u001b[0m\u001b[1;36m15\u001b[0m\u001b[1;33m,\u001b[0m \u001b[0mis_visualmap\u001b[0m\u001b[1;33m=\u001b[0m\u001b[0mTrue\u001b[0m\u001b[1;33m,\u001b[0m \u001b[1;31m#range表示的是high值。\u001b[0m\u001b[1;33m\u001b[0m\u001b[0m\n",
      "\u001b[0;31mNameError\u001b[0m: name 'geo4cinema' is not defined"
     ]
    }
   ],
   "source": [
    "# data = [ (\"北京\", 9)]\n",
    "import random\n",
    "geo = Geo( title_color=\"#fff\", title_pos=\"center\",width=1200, height=600, background_color='#404a59')\n",
    "# attr, value = geo.cast(data)\n",
    "geo.add(\"\", geo4cinema.keys(),\n",
    "        [i%10 for i in range(len(geo4cinema.keys()))],#钱说这个到时候要放票房；只要把表示的放上去就好了\n",
    "        visual_range=[0, 100], visual_text_color=\"#fff\", symbol_size=15, is_visualmap=True, #range表示的是high值。\n",
    "        geo_cities_coords=geo4cinemaa\n",
    "       )\n",
    "geo.render('dabian.html') #文件名啦！"
   ]
  },
  {
   "cell_type": "code",
   "execution_count": 34,
   "metadata": {
    "collapsed": false
   },
   "outputs": [
    {
     "data": {
      "text/plain": [
       "{'\\xe9\\x98\\xbf\\xe5\\x85\\x8b\\xe8\\x8b\\x8f': 70,\n",
       " '\\xe9\\x98\\xbf\\xe5\\x8b\\x92\\xe6\\xb3\\xb0': 90,\n",
       " '\\xe9\\x98\\xbf\\xe5\\x9f\\x8e': 80}"
      ]
     },
     "execution_count": 34,
     "metadata": {},
     "output_type": "execute_result"
    }
   ],
   "source": [
    "encoding = ('utf-8')\n",
    "city = {'阿城': 80,\n",
    "    '阿克苏': 70,\n",
    "    '阿勒泰': 90,\n",
    "    }\n",
    "city"
   ]
  },
  {
   "cell_type": "code",
   "execution_count": 30,
   "metadata": {
    "collapsed": false
   },
   "outputs": [
    {
     "name": "stdout",
     "output_type": "stream",
     "text": [
      "阿城\n"
     ]
    }
   ],
   "source": [
    "('阿城')"
   ]
  }
 ],
 "metadata": {
  "kernelspec": {
   "display_name": "Python 2",
   "language": "python",
   "name": "python2"
  },
  "language_info": {
   "codemirror_mode": {
    "name": "ipython",
    "version": 2
   },
   "file_extension": ".py",
   "mimetype": "text/x-python",
   "name": "python",
   "nbconvert_exporter": "python",
   "pygments_lexer": "ipython2",
   "version": "2.7.13"
  }
 },
 "nbformat": 4,
 "nbformat_minor": 2
}
