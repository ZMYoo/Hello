{
 "cells": [
  {
   "cell_type": "code",
   "execution_count": 1,
   "metadata": {
    "collapsed": true
   },
   "outputs": [],
   "source": [
    "import numpy as np\n",
    "import pandas as pd\n",
    "import matplotlib.mlab as mlab\n",
    "import matplotlib.pyplot as plt\n",
    "import seaborn as sns\n",
    "\n",
    "import xlrd\n",
    "import xlwt\n",
    "\n",
    "from openpyxl import load_workbook\n",
    "\n",
    "import math\n",
    "%matplotlib inline"
   ]
  },
  {
   "cell_type": "code",
   "execution_count": 17,
   "metadata": {
    "collapsed": true
   },
   "outputs": [],
   "source": [
    "movie = pd.read_csv(\"E:/MoiveData/movie.csv\")\n",
    "movie_city = pd.read_csv(\"E:/MoiveData/city_movie_schedule.csv\")"
   ]
  },
  {
   "cell_type": "code",
   "execution_count": 18,
   "metadata": {
    "collapsed": false
   },
   "outputs": [
    {
     "data": {
      "text/html": [
       "<div>\n",
       "<table border=\"1\" class=\"dataframe\">\n",
       "  <thead>\n",
       "    <tr style=\"text-align: right;\">\n",
       "      <th></th>\n",
       "      <th>MovieID</th>\n",
       "      <th>MovieCName</th>\n",
       "      <th>MovieEName</th>\n",
       "      <th>MovieType</th>\n",
       "      <th>MovieLength</th>\n",
       "      <th>MovieReleaseTime</th>\n",
       "      <th>MovieStandard</th>\n",
       "      <th>MovieSumBoxOffice</th>\n",
       "      <th>MovieAvgPrice</th>\n",
       "      <th>MovieAvgPeople</th>\n",
       "      <th>MovieWomIndex</th>\n",
       "    </tr>\n",
       "  </thead>\n",
       "  <tbody>\n",
       "    <tr>\n",
       "      <th>0</th>\n",
       "      <td>273</td>\n",
       "      <td>舞吧！昴</td>\n",
       "      <td>Dance Subaru</td>\n",
       "      <td>歌舞/剧情</td>\n",
       "      <td>10.0</td>\n",
       "      <td>20101203.0</td>\n",
       "      <td>2D</td>\n",
       "      <td>471000.0</td>\n",
       "      <td>NaN</td>\n",
       "      <td>NaN</td>\n",
       "      <td>NaN</td>\n",
       "    </tr>\n",
       "  </tbody>\n",
       "</table>\n",
       "</div>"
      ],
      "text/plain": [
       "   MovieID MovieCName    MovieEName MovieType  MovieLength  MovieReleaseTime  \\\n",
       "0      273       舞吧！昴  Dance Subaru     歌舞/剧情         10.0        20101203.0   \n",
       "\n",
       "  MovieStandard  MovieSumBoxOffice  MovieAvgPrice  MovieAvgPeople  \\\n",
       "0            2D           471000.0            NaN             NaN   \n",
       "\n",
       "   MovieWomIndex  \n",
       "0            NaN  "
      ]
     },
     "execution_count": 18,
     "metadata": {},
     "output_type": "execute_result"
    }
   ],
   "source": [
    "movie.head(1)"
   ]
  },
  {
   "cell_type": "code",
   "execution_count": 20,
   "metadata": {
    "collapsed": false
   },
   "outputs": [
    {
     "data": {
      "text/html": [
       "<div>\n",
       "<table border=\"1\" class=\"dataframe\">\n",
       "  <thead>\n",
       "    <tr style=\"text-align: right;\">\n",
       "      <th></th>\n",
       "      <th>MovieID\tName58921\tScheduleDate\tScheduleCity\tScheduleCinema\tTotal\tElapsed\tSeats\tPrime</th>\n",
       "    </tr>\n",
       "  </thead>\n",
       "  <tbody>\n",
       "    <tr>\n",
       "      <th>0</th>\n",
       "      <td>159\\tĦ��ׯ԰2��������\\t20170528\\tningxia_yinchua...</td>\n",
       "    </tr>\n",
       "  </tbody>\n",
       "</table>\n",
       "</div>"
      ],
      "text/plain": [
       "  MovieID\\tName58921\\tScheduleDate\\tScheduleCity\\tScheduleCinema\\tTotal\\tElapsed\\tSeats\\tPrime\n",
       "0  159\\tĦ��ׯ԰2��������\\t20170528\\tningxia_yinchua...                                          "
      ]
     },
     "execution_count": 20,
     "metadata": {},
     "output_type": "execute_result"
    }
   ],
   "source": [
    "movie_city.head(1)"
   ]
  },
  {
   "cell_type": "code",
   "execution_count": 11,
   "metadata": {
    "collapsed": true
   },
   "outputs": [],
   "source": [
    "typeid = {} # type 的 id\n",
    "movie_type = {}\n",
    "movie_box = {}\n",
    "\n",
    "N_type = 0\n",
    "\n",
    "for _,row in movie.iterrows():\n",
    "    if not isinstance(row['MovieType'], str):\n",
    "        continue\n",
    "    if row['MovieSumBoxOffice'] == 'NaN' or math.isnan(row['MovieSumBoxOffice']):\n",
    "        continue\n",
    "        \n",
    "    ID = row['MovieID']\n",
    "    \n",
    "    # 类型编号\n",
    "    types = row['MovieType'].split('/')\n",
    "    for t in types:\n",
    "        if t in typeid.keys():\n",
    "            continue\n",
    "        else:\n",
    "            typeid[t] = N_type\n",
    "            N_type += 1\n",
    "            \n",
    "    # 电影类型\n",
    "    movie_type[ID] = []\n",
    "    for t in types:\n",
    "        movie_type[row['MovieID']].append(typeid[t])\n",
    "        \n",
    "    # 电影票房\n",
    "    movie_box[ID] = row['MovieSumBoxOffice']"
   ]
  },
  {
   "cell_type": "code",
   "execution_count": 12,
   "metadata": {
    "collapsed": true
   },
   "outputs": [
    {
     "name": "stdout",
     "output_type": "stream",
     "text": [
      "0 歌舞\n",
      "1 剧情\n",
      "2 纪录片\n",
      "3 传记\n",
      "4 动作\n",
      "5 冒险\n",
      "6 青春\n",
      "7 爱情\n",
      "8 武侠\n",
      "9 古装\n",
      "10 科幻\n",
      "11 奇幻\n",
      "12 功夫\n",
      "13 战争\n",
      "14 运动\n",
      "15 喜剧\n",
      "16 悬疑\n",
      "17 都市\n",
      "18 时尚\n",
      "19 职场\n",
      "20 惊悚\n",
      "21 动画\n",
      "22 励志\n",
      "23 公路\n",
      "24 恐怖\n",
      "25 音乐\n",
      "26 怀旧\n",
      "27 军旅\n",
      "28 犯罪\n",
      "29 儿童\n",
      "30 革命\n",
      "31 亲情\n",
      "32 农村\n",
      "33 同性\n",
      "34 舞台艺术片\n",
      "35 灾难\n",
      "36 动物\n",
      "37 灵异\n",
      "38 文艺\n",
      "39 心理\n",
      "40 警匪\n",
      "41 戏曲\n",
      "42 玄幻\n",
      "43 友情\n",
      "44 反腐\n",
      "45 真人秀\n",
      "46 综艺大电影\n",
      "47 枪战\n",
      "48 主旋律\n",
      "49 民族\n",
      "50 黑帮\n",
      "51 穿越\n",
      "52 校园\n",
      "53 军事\n",
      "54 神话\n",
      "55 黑色幽默\n"
     ]
    }
   ],
   "source": [
    "idtype = {} # id的type\n",
    "\n",
    "for key,val in typeid.items():\n",
    "    idtype[val] = key\n",
    "\n",
    "for key,val in idtype.items():\n",
    "    print key,\n",
    "    print val"
   ]
  }
 ],
 "metadata": {
  "kernelspec": {
   "display_name": "Python 2",
   "language": "python",
   "name": "python2"
  },
  "language_info": {
   "codemirror_mode": {
    "name": "ipython",
    "version": 2
   },
   "file_extension": ".py",
   "mimetype": "text/x-python",
   "name": "python",
   "nbconvert_exporter": "python",
   "pygments_lexer": "ipython2",
   "version": "2.7.13"
  }
 },
 "nbformat": 4,
 "nbformat_minor": 2
}
