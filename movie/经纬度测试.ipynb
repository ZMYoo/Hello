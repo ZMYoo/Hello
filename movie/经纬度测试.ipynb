{
 "cells": [
  {
   "cell_type": "code",
   "execution_count": 3,
   "metadata": {
    "collapsed": false
   },
   "outputs": [],
   "source": [
    "import numpy as np\n",
    "import pandas as pd\n",
    "import seaborn as sns\n",
    "import requests,csv\n",
    "\n",
    "import xlrd\n",
    "import xlwt\n",
    "\n",
    "from urllib import urlopen, quote\n",
    "\n",
    "import json\n",
    "import urllib2\n",
    "import sys\n",
    "\n",
    "from pyecharts import Geo\n",
    "import pickle\n",
    "%load_ext autoreload\n",
    "%autoreload 2\n",
    "# reload(sys)\n",
    "# sys.setdefaultencoding('utf-8')"
   ]
  },
  {
   "cell_type": "code",
   "execution_count": 4,
   "metadata": {
    "collapsed": false
   },
   "outputs": [],
   "source": [
    "cinema = xlrd.open_workbook('E:/MoiveData/treatment/new_cinema_movietype.xls')    "
   ]
  },
  {
   "cell_type": "code",
   "execution_count": 5,
   "metadata": {
    "collapsed": true
   },
   "outputs": [],
   "source": [
    "def getlnglat(address):\n",
    "    url = 'http://api.map.baidu.com/geocoder/v2/'\n",
    "    output = 'json'\n",
    "    ak = 'hatbvFb8awXC88SSZqf0N9k92mCk44c0'\n",
    "    add = quote(address) \n",
    "    uri = url + '?' + 'address=' + add  + '&output=' + output + '&ak=' + ak\n",
    "    req = urlopen(uri)\n",
    "    res = req.read().decode('utf8') \n",
    "    temp = json.loads(res)\n",
    "    if not temp.has_key('result'):\n",
    "        print address\n",
    "        return [0,0]\n",
    "    lat=temp['result']['location']['lat']\n",
    "    lng=temp['result']['location']['lng']\n",
    "    return [lng,lat]"
   ]
  },
  {
   "cell_type": "code",
   "execution_count": 6,
   "metadata": {
    "collapsed": false
   },
   "outputs": [
    {
     "name": "stdout",
     "output_type": "stream",
     "text": [
      "4动作\n",
      "1963\n",
      "海淀区\n",
      "北京市海淀区复兴路69号卓展购物中心5层东侧\n",
      "北京耀莱成龙国际影城（五棵松店）\n",
      "144401140.0\n"
     ]
    }
   ],
   "source": [
    "type1 = cinema.sheet_by_index(4)\n",
    "print type1.name\n",
    "print len(type1.col(4))\n",
    "print (type1.col(5)[1].value)\n",
    "print (type1.col(4)[1].value)\n",
    "print (type1.col(3)[1].value)\n",
    "print (type1.col(1)[1].value)"
   ]
  },
  {
   "cell_type": "code",
   "execution_count": 19,
   "metadata": {
    "collapsed": false
   },
   "outputs": [],
   "source": [
    "value4cinema = {} #影院的票房\n",
    "\n",
    "for i in range(1, len(type1.col(4))):\n",
    "    value4cinema[type1.col(4)[i].value]= int(type1.col(1)[i].value)"
   ]
  },
  {
   "cell_type": "code",
   "execution_count": 7,
   "metadata": {
    "collapsed": false
   },
   "outputs": [
    {
     "name": "stdout",
     "output_type": "stream",
     "text": [
      "1963\n",
      "CinemaName\n",
      "金逸天津IMAX大悦城店\n",
      "CGV星聚汇影城（大连东港店）\n",
      "保利万和国际影城苹果园店\n",
      "星美国际影城成都大悦城店\n",
      "东影时代影城（水悦城店）\n",
      "恒大影城（翡翠华庭店）\n",
      "大地数字影院-东圃奥体高德\n",
      "金逸无锡中桥店\n",
      "大地影院下沙银泰STAR MAX店\n",
      "0.203260315843\n",
      "橙天嘉禾影城苏州印象城店\n"
     ]
    },
    {
     "ename": "IOError",
     "evalue": "[Errno socket error] [Errno 10054] ",
     "output_type": "error",
     "traceback": [
      "\u001b[0;31m---------------------------------------------------------------------------\u001b[0m",
      "\u001b[0;31mIOError\u001b[0m                                   Traceback (most recent call last)",
      "\u001b[0;32m<ipython-input-7-bb2411bcdae7>\u001b[0m in \u001b[0;36m<module>\u001b[0;34m()\u001b[0m\n\u001b[1;32m      5\u001b[0m     \u001b[1;32mif\u001b[0m \u001b[1;33m(\u001b[0m\u001b[0mi\u001b[0m\u001b[1;33m+\u001b[0m\u001b[1;36m1\u001b[0m\u001b[1;33m)\u001b[0m \u001b[1;33m%\u001b[0m \u001b[1;36m400\u001b[0m \u001b[1;33m==\u001b[0m \u001b[1;36m0\u001b[0m\u001b[1;33m:\u001b[0m \u001b[1;31m#处理的一个进度条表示80个数据就会输出百分比；\u001b[0m\u001b[1;33m\u001b[0m\u001b[0m\n\u001b[1;32m      6\u001b[0m         \u001b[1;32mprint\u001b[0m \u001b[0mi\u001b[0m\u001b[1;33m*\u001b[0m\u001b[1;36m1.0\u001b[0m\u001b[1;33m/\u001b[0m\u001b[0mtot\u001b[0m\u001b[1;33m\u001b[0m\u001b[0m\n\u001b[0;32m----> 7\u001b[0;31m     \u001b[0mgeo4cinema\u001b[0m\u001b[1;33m[\u001b[0m\u001b[0mtype1\u001b[0m\u001b[1;33m.\u001b[0m\u001b[0mcol\u001b[0m\u001b[1;33m(\u001b[0m\u001b[1;36m3\u001b[0m\u001b[1;33m)\u001b[0m\u001b[1;33m[\u001b[0m\u001b[0mi\u001b[0m\u001b[1;33m]\u001b[0m\u001b[1;33m.\u001b[0m\u001b[0mvalue\u001b[0m\u001b[1;33m]\u001b[0m \u001b[1;33m=\u001b[0m \u001b[0mgetlnglat\u001b[0m\u001b[1;33m(\u001b[0m\u001b[0mtype1\u001b[0m\u001b[1;33m.\u001b[0m\u001b[0mcol\u001b[0m\u001b[1;33m(\u001b[0m\u001b[1;36m3\u001b[0m\u001b[1;33m)\u001b[0m\u001b[1;33m[\u001b[0m\u001b[0mi\u001b[0m\u001b[1;33m]\u001b[0m\u001b[1;33m.\u001b[0m\u001b[0mvalue\u001b[0m\u001b[1;33m.\u001b[0m\u001b[0mencode\u001b[0m\u001b[1;33m(\u001b[0m\u001b[1;34m'utf8'\u001b[0m\u001b[1;33m)\u001b[0m\u001b[1;33m)\u001b[0m\u001b[1;33m\u001b[0m\u001b[0m\n\u001b[0m",
      "\u001b[0;32m<ipython-input-5-1d5f6e93ace1>\u001b[0m in \u001b[0;36mgetlnglat\u001b[0;34m(address)\u001b[0m\n\u001b[1;32m      5\u001b[0m     \u001b[0madd\u001b[0m \u001b[1;33m=\u001b[0m \u001b[0mquote\u001b[0m\u001b[1;33m(\u001b[0m\u001b[0maddress\u001b[0m\u001b[1;33m)\u001b[0m\u001b[1;33m\u001b[0m\u001b[0m\n\u001b[1;32m      6\u001b[0m     \u001b[0muri\u001b[0m \u001b[1;33m=\u001b[0m \u001b[0murl\u001b[0m \u001b[1;33m+\u001b[0m \u001b[1;34m'?'\u001b[0m \u001b[1;33m+\u001b[0m \u001b[1;34m'address='\u001b[0m \u001b[1;33m+\u001b[0m \u001b[0madd\u001b[0m  \u001b[1;33m+\u001b[0m \u001b[1;34m'&output='\u001b[0m \u001b[1;33m+\u001b[0m \u001b[0moutput\u001b[0m \u001b[1;33m+\u001b[0m \u001b[1;34m'&ak='\u001b[0m \u001b[1;33m+\u001b[0m \u001b[0mak\u001b[0m\u001b[1;33m\u001b[0m\u001b[0m\n\u001b[0;32m----> 7\u001b[0;31m     \u001b[0mreq\u001b[0m \u001b[1;33m=\u001b[0m \u001b[0murlopen\u001b[0m\u001b[1;33m(\u001b[0m\u001b[0muri\u001b[0m\u001b[1;33m)\u001b[0m\u001b[1;33m\u001b[0m\u001b[0m\n\u001b[0m\u001b[1;32m      8\u001b[0m     \u001b[0mres\u001b[0m \u001b[1;33m=\u001b[0m \u001b[0mreq\u001b[0m\u001b[1;33m.\u001b[0m\u001b[0mread\u001b[0m\u001b[1;33m(\u001b[0m\u001b[1;33m)\u001b[0m\u001b[1;33m.\u001b[0m\u001b[0mdecode\u001b[0m\u001b[1;33m(\u001b[0m\u001b[1;34m'utf8'\u001b[0m\u001b[1;33m)\u001b[0m\u001b[1;33m\u001b[0m\u001b[0m\n\u001b[1;32m      9\u001b[0m     \u001b[0mtemp\u001b[0m \u001b[1;33m=\u001b[0m \u001b[0mjson\u001b[0m\u001b[1;33m.\u001b[0m\u001b[0mloads\u001b[0m\u001b[1;33m(\u001b[0m\u001b[0mres\u001b[0m\u001b[1;33m)\u001b[0m\u001b[1;33m\u001b[0m\u001b[0m\n",
      "\u001b[0;32mD:\\Anaconda2\\lib\\urllib.pyc\u001b[0m in \u001b[0;36murlopen\u001b[0;34m(url, data, proxies, context)\u001b[0m\n\u001b[1;32m     85\u001b[0m         \u001b[0mopener\u001b[0m \u001b[1;33m=\u001b[0m \u001b[0m_urlopener\u001b[0m\u001b[1;33m\u001b[0m\u001b[0m\n\u001b[1;32m     86\u001b[0m     \u001b[1;32mif\u001b[0m \u001b[0mdata\u001b[0m \u001b[1;32mis\u001b[0m \u001b[0mNone\u001b[0m\u001b[1;33m:\u001b[0m\u001b[1;33m\u001b[0m\u001b[0m\n\u001b[0;32m---> 87\u001b[0;31m         \u001b[1;32mreturn\u001b[0m \u001b[0mopener\u001b[0m\u001b[1;33m.\u001b[0m\u001b[0mopen\u001b[0m\u001b[1;33m(\u001b[0m\u001b[0murl\u001b[0m\u001b[1;33m)\u001b[0m\u001b[1;33m\u001b[0m\u001b[0m\n\u001b[0m\u001b[1;32m     88\u001b[0m     \u001b[1;32melse\u001b[0m\u001b[1;33m:\u001b[0m\u001b[1;33m\u001b[0m\u001b[0m\n\u001b[1;32m     89\u001b[0m         \u001b[1;32mreturn\u001b[0m \u001b[0mopener\u001b[0m\u001b[1;33m.\u001b[0m\u001b[0mopen\u001b[0m\u001b[1;33m(\u001b[0m\u001b[0murl\u001b[0m\u001b[1;33m,\u001b[0m \u001b[0mdata\u001b[0m\u001b[1;33m)\u001b[0m\u001b[1;33m\u001b[0m\u001b[0m\n",
      "\u001b[0;32mD:\\Anaconda2\\lib\\urllib.pyc\u001b[0m in \u001b[0;36mopen\u001b[0;34m(self, fullurl, data)\u001b[0m\n\u001b[1;32m    211\u001b[0m         \u001b[1;32mtry\u001b[0m\u001b[1;33m:\u001b[0m\u001b[1;33m\u001b[0m\u001b[0m\n\u001b[1;32m    212\u001b[0m             \u001b[1;32mif\u001b[0m \u001b[0mdata\u001b[0m \u001b[1;32mis\u001b[0m \u001b[0mNone\u001b[0m\u001b[1;33m:\u001b[0m\u001b[1;33m\u001b[0m\u001b[0m\n\u001b[0;32m--> 213\u001b[0;31m                 \u001b[1;32mreturn\u001b[0m \u001b[0mgetattr\u001b[0m\u001b[1;33m(\u001b[0m\u001b[0mself\u001b[0m\u001b[1;33m,\u001b[0m \u001b[0mname\u001b[0m\u001b[1;33m)\u001b[0m\u001b[1;33m(\u001b[0m\u001b[0murl\u001b[0m\u001b[1;33m)\u001b[0m\u001b[1;33m\u001b[0m\u001b[0m\n\u001b[0m\u001b[1;32m    214\u001b[0m             \u001b[1;32melse\u001b[0m\u001b[1;33m:\u001b[0m\u001b[1;33m\u001b[0m\u001b[0m\n\u001b[1;32m    215\u001b[0m                 \u001b[1;32mreturn\u001b[0m \u001b[0mgetattr\u001b[0m\u001b[1;33m(\u001b[0m\u001b[0mself\u001b[0m\u001b[1;33m,\u001b[0m \u001b[0mname\u001b[0m\u001b[1;33m)\u001b[0m\u001b[1;33m(\u001b[0m\u001b[0murl\u001b[0m\u001b[1;33m,\u001b[0m \u001b[0mdata\u001b[0m\u001b[1;33m)\u001b[0m\u001b[1;33m\u001b[0m\u001b[0m\n",
      "\u001b[0;32mD:\\Anaconda2\\lib\\urllib.pyc\u001b[0m in \u001b[0;36mopen_http\u001b[0;34m(self, url, data)\u001b[0m\n\u001b[1;32m    349\u001b[0m         \u001b[1;32mfor\u001b[0m \u001b[0margs\u001b[0m \u001b[1;32min\u001b[0m \u001b[0mself\u001b[0m\u001b[1;33m.\u001b[0m\u001b[0maddheaders\u001b[0m\u001b[1;33m:\u001b[0m \u001b[0mh\u001b[0m\u001b[1;33m.\u001b[0m\u001b[0mputheader\u001b[0m\u001b[1;33m(\u001b[0m\u001b[1;33m*\u001b[0m\u001b[0margs\u001b[0m\u001b[1;33m)\u001b[0m\u001b[1;33m\u001b[0m\u001b[0m\n\u001b[1;32m    350\u001b[0m         \u001b[0mh\u001b[0m\u001b[1;33m.\u001b[0m\u001b[0mendheaders\u001b[0m\u001b[1;33m(\u001b[0m\u001b[0mdata\u001b[0m\u001b[1;33m)\u001b[0m\u001b[1;33m\u001b[0m\u001b[0m\n\u001b[0;32m--> 351\u001b[0;31m         \u001b[0merrcode\u001b[0m\u001b[1;33m,\u001b[0m \u001b[0merrmsg\u001b[0m\u001b[1;33m,\u001b[0m \u001b[0mheaders\u001b[0m \u001b[1;33m=\u001b[0m \u001b[0mh\u001b[0m\u001b[1;33m.\u001b[0m\u001b[0mgetreply\u001b[0m\u001b[1;33m(\u001b[0m\u001b[1;33m)\u001b[0m\u001b[1;33m\u001b[0m\u001b[0m\n\u001b[0m\u001b[1;32m    352\u001b[0m         \u001b[0mfp\u001b[0m \u001b[1;33m=\u001b[0m \u001b[0mh\u001b[0m\u001b[1;33m.\u001b[0m\u001b[0mgetfile\u001b[0m\u001b[1;33m(\u001b[0m\u001b[1;33m)\u001b[0m\u001b[1;33m\u001b[0m\u001b[0m\n\u001b[1;32m    353\u001b[0m         \u001b[1;32mif\u001b[0m \u001b[0merrcode\u001b[0m \u001b[1;33m==\u001b[0m \u001b[1;33m-\u001b[0m\u001b[1;36m1\u001b[0m\u001b[1;33m:\u001b[0m\u001b[1;33m\u001b[0m\u001b[0m\n",
      "\u001b[0;32mD:\\Anaconda2\\lib\\httplib.pyc\u001b[0m in \u001b[0;36mgetreply\u001b[0;34m(self, buffering)\u001b[0m\n\u001b[1;32m   1194\u001b[0m         \u001b[1;32mtry\u001b[0m\u001b[1;33m:\u001b[0m\u001b[1;33m\u001b[0m\u001b[0m\n\u001b[1;32m   1195\u001b[0m             \u001b[1;32mif\u001b[0m \u001b[1;32mnot\u001b[0m \u001b[0mbuffering\u001b[0m\u001b[1;33m:\u001b[0m\u001b[1;33m\u001b[0m\u001b[0m\n\u001b[0;32m-> 1196\u001b[0;31m                 \u001b[0mresponse\u001b[0m \u001b[1;33m=\u001b[0m \u001b[0mself\u001b[0m\u001b[1;33m.\u001b[0m\u001b[0m_conn\u001b[0m\u001b[1;33m.\u001b[0m\u001b[0mgetresponse\u001b[0m\u001b[1;33m(\u001b[0m\u001b[1;33m)\u001b[0m\u001b[1;33m\u001b[0m\u001b[0m\n\u001b[0m\u001b[1;32m   1197\u001b[0m             \u001b[1;32melse\u001b[0m\u001b[1;33m:\u001b[0m\u001b[1;33m\u001b[0m\u001b[0m\n\u001b[1;32m   1198\u001b[0m                 \u001b[1;31m#only add this keyword if non-default for compatibility\u001b[0m\u001b[1;33m\u001b[0m\u001b[1;33m\u001b[0m\u001b[0m\n",
      "\u001b[0;32mD:\\Anaconda2\\lib\\httplib.pyc\u001b[0m in \u001b[0;36mgetresponse\u001b[0;34m(self, buffering)\u001b[0m\n\u001b[1;32m   1119\u001b[0m \u001b[1;33m\u001b[0m\u001b[0m\n\u001b[1;32m   1120\u001b[0m         \u001b[1;32mtry\u001b[0m\u001b[1;33m:\u001b[0m\u001b[1;33m\u001b[0m\u001b[0m\n\u001b[0;32m-> 1121\u001b[0;31m             \u001b[0mresponse\u001b[0m\u001b[1;33m.\u001b[0m\u001b[0mbegin\u001b[0m\u001b[1;33m(\u001b[0m\u001b[1;33m)\u001b[0m\u001b[1;33m\u001b[0m\u001b[0m\n\u001b[0m\u001b[1;32m   1122\u001b[0m             \u001b[1;32massert\u001b[0m \u001b[0mresponse\u001b[0m\u001b[1;33m.\u001b[0m\u001b[0mwill_close\u001b[0m \u001b[1;33m!=\u001b[0m \u001b[0m_UNKNOWN\u001b[0m\u001b[1;33m\u001b[0m\u001b[0m\n\u001b[1;32m   1123\u001b[0m             \u001b[0mself\u001b[0m\u001b[1;33m.\u001b[0m\u001b[0m__state\u001b[0m \u001b[1;33m=\u001b[0m \u001b[0m_CS_IDLE\u001b[0m\u001b[1;33m\u001b[0m\u001b[0m\n",
      "\u001b[0;32mD:\\Anaconda2\\lib\\httplib.pyc\u001b[0m in \u001b[0;36mbegin\u001b[0;34m(self)\u001b[0m\n\u001b[1;32m    436\u001b[0m         \u001b[1;31m# read until we get a non-100 response\u001b[0m\u001b[1;33m\u001b[0m\u001b[1;33m\u001b[0m\u001b[0m\n\u001b[1;32m    437\u001b[0m         \u001b[1;32mwhile\u001b[0m \u001b[0mTrue\u001b[0m\u001b[1;33m:\u001b[0m\u001b[1;33m\u001b[0m\u001b[0m\n\u001b[0;32m--> 438\u001b[0;31m             \u001b[0mversion\u001b[0m\u001b[1;33m,\u001b[0m \u001b[0mstatus\u001b[0m\u001b[1;33m,\u001b[0m \u001b[0mreason\u001b[0m \u001b[1;33m=\u001b[0m \u001b[0mself\u001b[0m\u001b[1;33m.\u001b[0m\u001b[0m_read_status\u001b[0m\u001b[1;33m(\u001b[0m\u001b[1;33m)\u001b[0m\u001b[1;33m\u001b[0m\u001b[0m\n\u001b[0m\u001b[1;32m    439\u001b[0m             \u001b[1;32mif\u001b[0m \u001b[0mstatus\u001b[0m \u001b[1;33m!=\u001b[0m \u001b[0mCONTINUE\u001b[0m\u001b[1;33m:\u001b[0m\u001b[1;33m\u001b[0m\u001b[0m\n\u001b[1;32m    440\u001b[0m                 \u001b[1;32mbreak\u001b[0m\u001b[1;33m\u001b[0m\u001b[0m\n",
      "\u001b[0;32mD:\\Anaconda2\\lib\\httplib.pyc\u001b[0m in \u001b[0;36m_read_status\u001b[0;34m(self)\u001b[0m\n\u001b[1;32m    392\u001b[0m     \u001b[1;32mdef\u001b[0m \u001b[0m_read_status\u001b[0m\u001b[1;33m(\u001b[0m\u001b[0mself\u001b[0m\u001b[1;33m)\u001b[0m\u001b[1;33m:\u001b[0m\u001b[1;33m\u001b[0m\u001b[0m\n\u001b[1;32m    393\u001b[0m         \u001b[1;31m# Initialize with Simple-Response defaults\u001b[0m\u001b[1;33m\u001b[0m\u001b[1;33m\u001b[0m\u001b[0m\n\u001b[0;32m--> 394\u001b[0;31m         \u001b[0mline\u001b[0m \u001b[1;33m=\u001b[0m \u001b[0mself\u001b[0m\u001b[1;33m.\u001b[0m\u001b[0mfp\u001b[0m\u001b[1;33m.\u001b[0m\u001b[0mreadline\u001b[0m\u001b[1;33m(\u001b[0m\u001b[0m_MAXLINE\u001b[0m \u001b[1;33m+\u001b[0m \u001b[1;36m1\u001b[0m\u001b[1;33m)\u001b[0m\u001b[1;33m\u001b[0m\u001b[0m\n\u001b[0m\u001b[1;32m    395\u001b[0m         \u001b[1;32mif\u001b[0m \u001b[0mlen\u001b[0m\u001b[1;33m(\u001b[0m\u001b[0mline\u001b[0m\u001b[1;33m)\u001b[0m \u001b[1;33m>\u001b[0m \u001b[0m_MAXLINE\u001b[0m\u001b[1;33m:\u001b[0m\u001b[1;33m\u001b[0m\u001b[0m\n\u001b[1;32m    396\u001b[0m             \u001b[1;32mraise\u001b[0m \u001b[0mLineTooLong\u001b[0m\u001b[1;33m(\u001b[0m\u001b[1;34m\"header line\"\u001b[0m\u001b[1;33m)\u001b[0m\u001b[1;33m\u001b[0m\u001b[0m\n",
      "\u001b[0;32mD:\\Anaconda2\\lib\\socket.pyc\u001b[0m in \u001b[0;36mreadline\u001b[0;34m(self, size)\u001b[0m\n\u001b[1;32m    478\u001b[0m             \u001b[1;32mwhile\u001b[0m \u001b[0mTrue\u001b[0m\u001b[1;33m:\u001b[0m\u001b[1;33m\u001b[0m\u001b[0m\n\u001b[1;32m    479\u001b[0m                 \u001b[1;32mtry\u001b[0m\u001b[1;33m:\u001b[0m\u001b[1;33m\u001b[0m\u001b[0m\n\u001b[0;32m--> 480\u001b[0;31m                     \u001b[0mdata\u001b[0m \u001b[1;33m=\u001b[0m \u001b[0mself\u001b[0m\u001b[1;33m.\u001b[0m\u001b[0m_sock\u001b[0m\u001b[1;33m.\u001b[0m\u001b[0mrecv\u001b[0m\u001b[1;33m(\u001b[0m\u001b[0mself\u001b[0m\u001b[1;33m.\u001b[0m\u001b[0m_rbufsize\u001b[0m\u001b[1;33m)\u001b[0m\u001b[1;33m\u001b[0m\u001b[0m\n\u001b[0m\u001b[1;32m    481\u001b[0m                 \u001b[1;32mexcept\u001b[0m \u001b[0merror\u001b[0m\u001b[1;33m,\u001b[0m \u001b[0me\u001b[0m\u001b[1;33m:\u001b[0m\u001b[1;33m\u001b[0m\u001b[0m\n\u001b[1;32m    482\u001b[0m                     \u001b[1;32mif\u001b[0m \u001b[0me\u001b[0m\u001b[1;33m.\u001b[0m\u001b[0margs\u001b[0m\u001b[1;33m[\u001b[0m\u001b[1;36m0\u001b[0m\u001b[1;33m]\u001b[0m \u001b[1;33m==\u001b[0m \u001b[0mEINTR\u001b[0m\u001b[1;33m:\u001b[0m\u001b[1;33m\u001b[0m\u001b[0m\n",
      "\u001b[0;31mIOError\u001b[0m: [Errno socket error] [Errno 10054] "
     ]
    }
   ],
   "source": [
    "geo4cinema = {} #影院经纬度\n",
    "tot = len(type1.col(4))\n",
    "print tot\n",
    "for i in range(len(type1.col(4))):\n",
    "    if (i+1) % 400 == 0: #处理的一个进度条表示80个数据就会输出百分比；\n",
    "        print i*1.0/tot\n",
    "    geo4cinema[type1.col(3)[i].value] = getlnglat(type1.col(3)[i].value.encode('utf8'))"
   ]
  },
  {
   "cell_type": "code",
   "execution_count": 30,
   "metadata": {
    "collapsed": false
   },
   "outputs": [
    {
     "ename": "TypeError",
     "evalue": "unhashable type",
     "output_type": "error",
     "traceback": [
      "\u001b[0;31m---------------------------------------------------------------------------\u001b[0m",
      "\u001b[0;31mTypeError\u001b[0m                                 Traceback (most recent call last)",
      "\u001b[0;32m<ipython-input-30-95b3253451ff>\u001b[0m in \u001b[0;36m<module>\u001b[0;34m()\u001b[0m\n\u001b[0;32m----> 1\u001b[0;31m \u001b[1;32mprint\u001b[0m \u001b[0mgeo4cinema\u001b[0m\u001b[1;33m[\u001b[0m\u001b[1;33m:\u001b[0m\u001b[1;33m]\u001b[0m\u001b[1;33m[\u001b[0m\u001b[1;36m1\u001b[0m\u001b[1;33m]\u001b[0m\u001b[1;33m\u001b[0m\u001b[0m\n\u001b[0m",
      "\u001b[0;31mTypeError\u001b[0m: unhashable type"
     ]
    }
   ],
   "source": [
    "print geo4cinema"
   ]
  },
  {
   "cell_type": "code",
   "execution_count": 8,
   "metadata": {
    "collapsed": false
   },
   "outputs": [
    {
     "ename": "IndentationError",
     "evalue": "unexpected indent (<ipython-input-8-b67ea42c09c4>, line 4)",
     "output_type": "error",
     "traceback": [
      "\u001b[0;36m  File \u001b[0;32m\"<ipython-input-8-b67ea42c09c4>\"\u001b[0;36m, line \u001b[0;32m4\u001b[0m\n\u001b[0;31m    for i in range(len(type1.col(4))):\u001b[0m\n\u001b[0m    ^\u001b[0m\n\u001b[0;31mIndentationError\u001b[0m\u001b[0;31m:\u001b[0m unexpected indent\n"
     ]
    }
   ],
   "source": [
    "#print geo4cinema\n",
    "\n",
    "file = open(r'E:/MoiveData/treatment/point.json','w')\n",
    "    for i in range(len(type1.col(4))):\n",
    "        str_temp = '{\"cinemaname\":'+ str(type1.col(3)[i].value)+ '\"lng_lat\":' + str(geo4cinema[type1.col(3)[i].value]) +'},'\n",
    "        file.write(str_temp)\n",
    "        print str_temp\n",
    "file.close() "
   ]
  },
  {
   "cell_type": "code",
   "execution_count": 22,
   "metadata": {
    "collapsed": false
   },
   "outputs": [
    {
     "data": {
      "text/plain": [
       "[106.46386780693102, 29.5391289760506]"
      ]
     },
     "execution_count": 22,
     "metadata": {},
     "output_type": "execute_result"
    }
   ],
   "source": [
    "getlnglat('成都市成华区双庆路8号万象城四层')"
   ]
  },
  {
   "cell_type": "code",
   "execution_count": 19,
   "metadata": {
    "collapsed": false
   },
   "outputs": [
    {
     "data": {
      "text/plain": [
       "(array([  97.,  282.,  200.,  139.,   79.,   70.,   41.,   25.,   13.,\n",
       "          12.,    6.,    6.,    3.,    3.,    0.,    1.,    0.,    0.,\n",
       "           0.,    1.]),\n",
       " array([  1.50689760e+07,   2.15355842e+07,   2.80021924e+07,\n",
       "          3.44688006e+07,   4.09354088e+07,   4.74020170e+07,\n",
       "          5.38686252e+07,   6.03352334e+07,   6.68018416e+07,\n",
       "          7.32684498e+07,   7.97350580e+07,   8.62016662e+07,\n",
       "          9.26682744e+07,   9.91348826e+07,   1.05601491e+08,\n",
       "          1.12068099e+08,   1.18534707e+08,   1.25001315e+08,\n",
       "          1.31467924e+08,   1.37934532e+08,   1.44401140e+08]),\n",
       " <a list of 20 Patch objects>)"
      ]
     },
     "execution_count": 19,
     "metadata": {},
     "output_type": "execute_result"
    },
    {
     "data": {
      "image/png": "[encoded data removed]",
      "text/plain": [
       "<matplotlib.figure.Figure at 0x6eb89b0>"
      ]
     },
     "metadata": {},
     "output_type": "display_data"
    }
   ],
   "source": [
    "import matplotlib.pyplot as plt\n",
    "import matplotlib.mlab as mlab\n",
    "import seaborn as sns\n",
    "\n",
    "%matplotlib inline\n",
    "\n",
    "plt.hist([value4cinema[type1.col(4)[i].value] for i in range(1,len(geo4cinema.keys()))],bins = 20)\n"
   ]
  },
  {
   "cell_type": "code",
   "execution_count": 22,
   "metadata": {
    "collapsed": false
   },
   "outputs": [],
   "source": [
    "geo = Geo(\"全国影院放映电影票房分布\", \"纪录片\", title_color=\"#fff\", title_pos=\"center\",\n",
    "          width=1200, height=600, background_color='#404a59')\n",
    "#attr, value = geo.cast(data)\n",
    "geo.add(\"\", geo4cinema.keys()[:-1],\n",
    "        [value4cinema[type1.col(4)[i].value] for i in range(1,len(geo4cinema.keys()))],\n",
    "        type=\"heatmap\", is_visualmap=True, visual_range=[100000, 10000000],\n",
    "        visual_text_color='#556377',\n",
    "        geo_cities_coords=geo4cinema)\n",
    "geo.render('heatmap_cinema_4.html')"
   ]
  },
  {
   "cell_type": "code",
   "execution_count": 23,
   "metadata": {
    "collapsed": true
   },
   "outputs": [],
   "source": [
    "import random\n",
    "geo = Geo( \"全国影院分布信息\", \"纪录片\",title_color=\"#fff\", title_pos=\"center\",\n",
    "          width=1200, height=600, background_color='#404a59')\n",
    "geo.add(\"\", geo4cinema.keys()[:-1],\n",
    "        [value4cinema[type1.col(4)[i].value] for i in range(1,len(geo4cinema.keys()))],\n",
    "        visual_range=[100000, 10000000], visual_text_color=\"#fff\", symbol_size=15, is_visualmap=True, #range表示的是high值。\n",
    "        geo_cities_coords=geo4cinema)\n",
    "geo.render('view_cinema_4.html') #文件名啦！"
   ]
  },
  {
   "cell_type": "markdown",
   "metadata": {
    "collapsed": true
   },
   "source": [
    "# 得到经纬度的json文件"
   ]
  },
  {
   "cell_type": "code",
   "execution_count": 5,
   "metadata": {
    "collapsed": true
   },
   "outputs": [],
   "source": [
    "def getlnglat(address):\n",
    "    url = 'http://api.map.baidu.com/geocoder/v2/'\n",
    "    output = 'json'\n",
    "    ak = 'hatbvFb8awXC88SSZqf0N9k92mCk44c0'\n",
    "    add = quote(address) \n",
    "    uri = url + '?' + 'address=' + add  + '&output=' + output + '&ak=' + ak\n",
    "    req = urlopen(uri)\n",
    "    res = req.read().decode('utf8') \n",
    "    temp = json.loads(res)\n",
    "    if not temp.has_key('result'):\n",
    "        print address\n",
    "        return [0,0]\n",
    "    lat=temp['result']['location']['lat']\n",
    "    lng=temp['result']['location']['lng']\n",
    "    return [lng,lat]"
   ]
  },
  {
   "cell_type": "code",
   "execution_count": 15,
   "metadata": {
    "collapsed": true
   },
   "outputs": [],
   "source": [
    "def getlnglat(address):\n",
    "    url = 'http://api.map.baidu.com/geocoder/v2/'\n",
    "    output = 'json'\n",
    "    ak = 'hatbvFb8awXC88SSZqf0N9k92mCk44c0'\n",
    "    add = quote(address) \n",
    "    uri = url + '?' + 'address=' + add  + '&output=' + output + '&ak=' + ak\n",
    "    req = urlopen(uri)\n",
    "    res = req.read() \n",
    "    temp = json.loads(res)\n",
    "    if not temp.has_key('result'):\n",
    "        print address\n",
    "        return [0,0]\n",
    "    return temp"
   ]
  },
  {
   "cell_type": "code",
   "execution_count": 4,
   "metadata": {
    "collapsed": true
   },
   "outputs": [],
   "source": [
    "sheet = cinema.sheet_by_index(0)"
   ]
  },
  {
   "cell_type": "code",
   "execution_count": 17,
   "metadata": {
    "collapsed": false
   },
   "outputs": [
    {
     "name": "stdout",
     "output_type": "stream",
     "text": [
      "['32989143', '\\xb1\\xb1\\xbe\\xa9\\xd2\\xab\\xc0\\xb3\\xb3\\xc9\\xc1\\xfa\\xb9\\xfa\\xbc\\xca\\xd3\\xb0\\xb3\\xc7\\xa3\\xa8\\xce\\xe5\\xbf\\xc3\\xcb\\xc9\\xb5\\xea\\xa3\\xa9']\n",
      "{\"cinemaname\":����ҫ����������Ӱ�ǣ�����ɵ꣩,\"lat\":39.9161322666,\"lng\":116.277952442,\"count\":32989143},\n",
      "['24796300', '\\xc3\\xc0\\xbc\\xce\\xbb\\xb6\\xc0\\xd6\\xd3\\xb0\\xb3\\xc7\\xc8\\xfd\\xc0\\xef\\xcd\\xcd\\xb5\\xea']\n",
      "{\"cinemaname\":���λ���Ӱ�������͵�,\"lat\":39.9402675777,\"lng\":116.461336918,\"count\":24796300},\n",
      "['24192661', '\\xc3\\xc0\\xbc\\xce\\xbb\\xb6\\xc0\\xd6\\xd3\\xb0\\xb3\\xc7\\xd6\\xd0\\xb9\\xd8\\xb4\\xe5\\xb5\\xea']\n",
      "{\"cinemaname\":���λ���Ӱ���йش��,\"lat\":39.9887246419,\"lng\":116.320201389,\"count\":24192661},\n",
      "['23629810', 'UME\\xb9\\xfa\\xbc\\xca\\xd3\\xb0\\xb3\\xc7\\xa3\\xa8\\xbb\\xaa\\xd0\\xc7\\xb5\\xea\\xa3\\xa9']\n",
      "{\"cinemaname\":UME����Ӱ�ǣ����ǵ꣩,\"lat\":29.5158380105,\"lng\":106.524303127,\"count\":23629810},\n",
      "['23091930', '\\xd0\\xc7\\xc3\\xc0\\xb9\\xfa\\xbc\\xca\\xd3\\xb0\\xb3\\xc7\\xa1\\xa4\\xbd\\xf0\\xd4\\xb4\\xb5\\xea']\n",
      "{\"cinemaname\":��������Ӱ�ǡ���Դ��,\"lat\":39.9644573195,\"lng\":116.297571276,\"count\":23091930},\n",
      "['23050361', '\\xb1\\xb1\\xbe\\xa9\\xcd\\xf2\\xb4\\xef\\xd3\\xb0\\xb3\\xc7\\xcd\\xa8\\xd6\\xdd\\xcd\\xf2\\xb4\\xef\\xb9\\xe3\\xb3\\xa1\\xb5\\xea']\n",
      "{\"cinemaname\":�������Ӱ��ͨ�����㳡��,\"lat\":39.9125032056,\"lng\":116.649525907,\"count\":23050361},\n",
      "['22684202', '\\xb1\\xb1\\xbe\\xa9\\xcd\\xf2\\xb4\\xef\\xcc\\xec\\xcd\\xa8\\xd4\\xb7\\xc1\\xfa\\xb5\\xc2\\xb9\\xe3\\xb3\\xa1\\xb5\\xea']\n",
      "{\"cinemaname\":���������ͨԷ���¹㳡��,\"lat\":40.0657113618,\"lng\":116.421929776,\"count\":22684202},\n",
      "['22345756', '\\xc9\\xcf\\xba\\xa3\\xd0\\xc7\\xc3\\xc0\\xd5\\xfd\\xb4\\xf3\\xb9\\xfa\\xbc\\xca\\xd3\\xb0\\xb3\\xc7']\n",
      "{\"cinemaname\":�Ϻ������������Ӱ��,\"lat\":31.2432959696,\"lng\":121.506835496,\"count\":22345756},\n",
      "['22107971', 'CGV\\xd0\\xc7\\xbe\\xdb\\xbb\\xe3\\xd3\\xb0\\xb3\\xc7\\xa3\\xa8\\xc7\\xe0\\xb5\\xba\\xcd\\xf2\\xcf\\xf3\\xb3\\xc7\\xb5\\xea\\xa3\\xa9']\n",
      "{\"cinemaname\":CGV�Ǿۻ�Ӱ�ǣ��ൺ����ǵ꣩,\"lat\":36.0736209058,\"lng\":120.384368878,\"count\":22107971},\n",
      "['22001224', 'CGV\\xd0\\xc7\\xbe\\xdb\\xbb\\xe3\\xd3\\xb0\\xb3\\xc7\\xa3\\xa8\\xb9\\xfe\\xb6\\xfb\\xb1\\xf5\\xbb\\xe1\\xd5\\xb9\\xd6\\xd0\\xd0\\xc4\\xb5\\xea\\xa3\\xa9']\n",
      "{\"cinemaname\":CGV�Ǿۻ�Ӱ�ǣ���������չ���ĵ꣩,\"lat\":45.7618810735,\"lng\":126.701914385,\"count\":22001224},\n",
      "['21683641', '\\xb8\\xa3\\xd6\\xdd\\xd6\\xd0\\xc8\\xf0\\xb9\\xfa\\xbc\\xca\\xd3\\xb0\\xb3\\xc7']\n",
      "{\"cinemaname\":�����������Ӱ��,\"lat\":26.0677242103,\"lng\":119.300900736,\"count\":21683641},\n",
      "['21345275', '\\xbc\\xc3\\xc4\\xcf\\xcd\\xf2\\xb4\\xef\\xd3\\xb0\\xb3\\xc7\\xc3\\xf7\\xba\\xfe\\xb5\\xea']\n",
      "{\"cinemaname\":�������Ӱ��������,\"lat\":36.6827847272,\"lng\":117.024967066,\"count\":21345275},\n",
      "['20646765', 'UME\\xb9\\xfa\\xbc\\xca\\xd3\\xb0\\xb3\\xc7\\xa3\\xa8\\xcb\\xab\\xbe\\xae\\xa3\\xa9']\n",
      "{\"cinemaname\":UME����Ӱ�ǣ�˫����,\"lat\":39.9015417568,\"lng\":116.467828467,\"count\":20646765},\n",
      "['19873146', '\\xc2\\xac\\xc3\\xd7\\xb0\\xa3\\xb1\\xb1\\xbe\\xa9\\xb3\\xa4\\xe9\\xba\\xcc\\xec\\xbd\\xd6IMAX\\xd3\\xb0\\xb3\\xc7']\n",
      "{\"cinemaname\":¬�װ�����������IMAXӰ��,\"lat\":31.6739186534,\"lng\":120.774144415,\"count\":19873146},\n",
      "['19783520', '\\xd0\\xc7\\xc3\\xc0\\xb9\\xfa\\xbc\\xca\\xd3\\xb0\\xb3\\xc7\\xa1\\xa4\\xb3\\xc9\\xb6\\xbc\\xbb\\xb7\\xc7\\xf2\\xb5\\xea']\n",
      "{\"cinemaname\":��������Ӱ�ǡ��ɶ������,\"lat\":30.6799428454,\"lng\":104.067923463,\"count\":19783520},\n",
      "['19765715', '\\xb3\\xa4\\xb4\\xba\\xcd\\xf2\\xb4\\xef\\xd3\\xb0\\xb3\\xc7\\xc5\\xb7\\xd1\\xc7\\xb4\\xf3\\xc2\\xf4\\xb3\\xa1\\xb5\\xea']\n",
      "{\"cinemaname\":�������Ӱ��ŷ�Ǵ�����,\"lat\":43.8983376071,\"lng\":125.313642427,\"count\":19765715},\n",
      "['19683567', '\\xca\\xd7\\xb6\\xbc\\xb5\\xe7\\xd3\\xb0\\xd4\\xba\\xa3\\xa8\\xce\\xf7\\xb5\\xa5\\xb5\\xea\\xa3\\xa9']\n",
      "{\"cinemaname\":�׶���ӰԺ�������꣩,\"lat\":39.9167977958,\"lng\":116.379282352,\"count\":19683567},\n",
      "['19659052', '\\xba\\xe1\\xb5\\xea\\xb5\\xe7\\xd3\\xb0\\xb3\\xc7\\xa3\\xa8\\xce\\xf7\\xb0\\xb2\\xd6\\xd0\\xc3\\xb3\\xb5\\xea\\xa3\\xa9']\n",
      "{\"cinemaname\":����Ӱ�ǣ�������ó�꣩,\"lat\":42.9863649464,\"lng\":125.150148579,\"count\":19659052},\n",
      "['19426462', '\\xb1\\xb1\\xbe\\xa9\\xcd\\xf2\\xb4\\xef\\xca\\xaf\\xbe\\xb0\\xc9\\xbd\\xb9\\xe3\\xb3\\xa1\\xb5\\xea']\n",
      "{\"cinemaname\":�������ʯ��ɽ�㳡��,\"lat\":39.9388665446,\"lng\":116.18455581,\"count\":19426462},\n",
      "['19366337', '\\xb9\\xe3\\xd6\\xdd\\xb7\\xc9\\xd1\\xef\\xd3\\xb0\\xb3\\xc7-\\xd5\\xfd\\xbc\\xd1IMAX\\xb5\\xea']\n",
      "{\"cinemaname\":���ݷ���Ӱ��-����IMAX��,\"lat\":23.126149144,\"lng\":113.332935329,\"count\":19366337},\n",
      "['19350675', 'UME\\xb9\\xfa\\xbc\\xca\\xd3\\xb0\\xb3\\xc7\\xa3\\xa8\\xb0\\xb2\\xd5\\xea\\xb5\\xea\\xa3\\xa9']\n",
      "{\"cinemaname\":UME����Ӱ�ǣ�����꣩,\"lat\":29.5158380105,\"lng\":106.524303127,\"count\":19350675},\n",
      "['19292645', '\\xbd\\xf0\\xd2\\xdd\\xce\\xe4\\xba\\xba\\xcd\\xf5\\xbc\\xd2\\xcd\\xe5\\xb5\\xea']\n",
      "{\"cinemaname\":�����人�������,\"lat\":30.5810841269,\"lng\":114.316200103,\"count\":19292645},\n",
      "['19277515', '\\xbd\\xf0\\xd2\\xdd\\xb9\\xfa\\xbc\\xca\\xd3\\xb0\\xb3\\xc7\\xa3\\xa8\\xb3\\xaf\\xd1\\xf4\\xb4\\xf3\\xd4\\xc3\\xb3\\xc7\\xb5\\xea\\xa3\\xa9']\n",
      "{\"cinemaname\":���ݹ���Ӱ�ǣ�������óǵ꣩,\"lat\":39.929788393,\"lng\":116.52427017,\"count\":19277515},\n",
      "['19262696', 'SFC\\xc9\\xcf\\xba\\xa3\\xd3\\xb0\\xb3\\xc7']\n",
      "{\"cinemaname\":SFC�Ϻ�Ӱ��,\"lat\":31.2086440285,\"lng\":121.436221785,\"count\":19262696},\n",
      "['19246279', '\\xc9\\xcf\\xba\\xa3\\xce\\xe5\\xbd\\xc7\\xb3\\xa1\\xcd\\xf2\\xb4\\xef\\xb9\\xe3\\xb3\\xa1\\xb5\\xea']\n",
      "{\"cinemaname\":�Ϻ���ǳ����㳡��,\"lat\":31.3060404756,\"lng\":121.520453538,\"count\":19246279},\n",
      "['19121015', '\\xc4\\xcf\\xc4\\xfe\\xc3\\xf1\\xd7\\xe5\\xd3\\xb0\\xb3\\xc7']\n",
      "{\"cinemaname\":��������Ӱ��,\"lat\":22.8180868477,\"lng\":108.406074451,\"count\":19121015},\n",
      "['18532139', '\\xb1\\xb1\\xbe\\xa9\\xcd\\xf2\\xb4\\xefCBD\\xb9\\xe3\\xb3\\xa1\\xb5\\xea']\n",
      "{\"cinemaname\":�������CBD�㳡��,\"lat\":39.950138178,\"lng\":116.725780209,\"count\":18532139},\n",
      "['18466503', '\\xce\\xf7\\xb0\\xb2\\xcd\\xf2\\xb4\\xef\\xd3\\xb0\\xb3\\xc7\\xb1\\xae\\xc1\\xd6\\xcd\\xf2\\xb4\\xef\\xb9\\xe3\\xb3\\xa1\\xb5\\xea']\n",
      "{\"cinemaname\":�������Ӱ�Ǳ������㳡��,\"lat\":34.2495278318,\"lng\":108.969293137,\"count\":18466503},\n",
      "['18415689', '\\xb1\\xb1\\xbe\\xa9\\xbd\\xf0\\xd2\\xdd\\xb9\\xfa\\xbc\\xca\\xd3\\xb0\\xb3\\xc7\\xdc\\xf6\\xbe\\xdb\\xb5\\xea']\n",
      "{\"cinemaname\":�������ݹ���Ӱ�����۵�,\"lat\":39.9845111536,\"lng\":116.322002401,\"count\":18415689},\n",
      "['18304285', '\\xb3\\xa4\\xc9\\xb3\\xcd\\xf2\\xb4\\xef\\xbd\\xe2\\xb7\\xc5\\xc2\\xb7\\xd4\\xc3\\xdc\\xf6\\xb9\\xe3\\xb3\\xa1\\xb5\\xea']\n",
      "{\"cinemaname\":��ɳ�����·�����㳡��,\"lat\":28.196530581,\"lng\":112.981532708,\"count\":18304285},\n",
      "['18257966', '\\xb3\\xc8\\xcc\\xec\\xbc\\xce\\xba\\xcc\\xd3\\xb0\\xb3\\xc7\\xb1\\xb1\\xbe\\xa9\\xcf\\xe9\\xd4\\xc6\\xb5\\xea']\n",
      "{\"cinemaname\":����κ�Ӱ�Ǳ������Ƶ�,\"lat\":39.9299857781,\"lng\":116.395645038,\"count\":18257966},\n",
      "['18209569', '\\xcc\\xab\\xd4\\xad\\xc1\\xfa\\xba\\xfe\\xcd\\xf2\\xb4\\xef\\xb9\\xe3\\xb3\\xa1\\xb5\\xea']\n",
      "{\"cinemaname\":̫ԭ�������㳡��,\"lat\":37.8850443123,\"lng\":112.55747377,\"count\":18209569},\n",
      "['18198044', '\\xb9\\xfe\\xb6\\xfb\\xb1\\xf5\\xcc\\xa9\\xc0\\xb3\\xca\\xb1\\xb4\\xfa\\xd3\\xb0\\xb3\\xc7']\n",
      "{\"cinemaname\":������̩��ʱ��Ӱ��,\"lat\":45.7732246332,\"lng\":126.657716855,\"count\":18198044},\n",
      "['17878568', '\\xd6\\xd0\\xc8\\xf0\\xcd\\xf2\\xd0\\xc7\\xb9\\xfa\\xbc\\xca\\xd3\\xb0\\xb3\\xc7']\n",
      "{\"cinemaname\":�������ǹ���Ӱ��,\"lat\":26.1177707208,\"lng\":119.311990567,\"count\":17878568},\n",
      "['17867424', '\\xc4\\xcf\\xc4\\xfe\\xc7\\xe0\\xd0\\xe3\\xcd\\xf2\\xb4\\xef\\xb9\\xe3\\xb3\\xa1\\xb5\\xea']\n",
      "{\"cinemaname\":�����������㳡��,\"lat\":22.8373870269,\"lng\":108.376299936,\"count\":17867424},\n",
      "['17707165', '\\xb1\\xb1\\xbe\\xa9\\xba\\xec\\xd0\\xc7\\xcc\\xab\\xc6\\xbd\\xd1\\xf3\\xd3\\xb0\\xb3\\xc7']\n",
      "{\"cinemaname\":��������̫ƽ��Ӱ��,\"lat\":39.9299857781,\"lng\":116.395645038,\"count\":17707165},\n",
      "['17590961', '\\xba\\xbc\\xd6\\xdd\\xb0\\xd9\\xc0\\xcf\\xbb\\xe3\\xd3\\xb0\\xb3\\xc7\\xcd\\xf2\\xcf\\xf3\\xb3\\xc7\\xb5\\xea']\n",
      "{\"cinemaname\":���ݰ��ϻ�Ӱ������ǵ�,\"lat\":30.2569137619,\"lng\":120.222462439,\"count\":17590961},\n",
      "['17474329', '\\xbd\\xf0\\xd2\\xdd\\xcc\\xec\\xbd\\xf2IMAX\\xb4\\xf3\\xd4\\xc3\\xb3\\xc7\\xb5\\xea']\n",
      "�������IMAX���óǵ�\n"
     ]
    },
    {
     "ename": "TypeError",
     "evalue": "list indices must be integers, not str",
     "output_type": "error",
     "traceback": [
      "\u001b[0;31m---------------------------------------------------------------------------\u001b[0m",
      "\u001b[0;31mTypeError\u001b[0m                                 Traceback (most recent call last)",
      "\u001b[0;32m<ipython-input-17-76d1a0e853d8>\u001b[0m in \u001b[0;36m<module>\u001b[0;34m()\u001b[0m\n\u001b[1;32m      8\u001b[0m         \u001b[0mb\u001b[0m \u001b[1;33m=\u001b[0m \u001b[0mline\u001b[0m\u001b[1;33m[\u001b[0m\u001b[1;36m1\u001b[0m\u001b[1;33m]\u001b[0m\u001b[1;33m.\u001b[0m\u001b[0mstrip\u001b[0m\u001b[1;33m(\u001b[0m\u001b[1;33m)\u001b[0m\u001b[1;33m\u001b[0m\u001b[0m\n\u001b[1;32m      9\u001b[0m         \u001b[0mc\u001b[0m \u001b[1;33m=\u001b[0m \u001b[0mline\u001b[0m\u001b[1;33m[\u001b[0m\u001b[1;36m0\u001b[0m\u001b[1;33m]\u001b[0m\u001b[1;33m.\u001b[0m\u001b[0mstrip\u001b[0m\u001b[1;33m(\u001b[0m\u001b[1;33m)\u001b[0m\u001b[1;33m\u001b[0m\u001b[0m\n\u001b[0;32m---> 10\u001b[0;31m         \u001b[0mlng\u001b[0m \u001b[1;33m=\u001b[0m \u001b[0mgetlnglat\u001b[0m\u001b[1;33m(\u001b[0m\u001b[0mb\u001b[0m\u001b[1;33m)\u001b[0m\u001b[1;33m[\u001b[0m\u001b[1;34m'result'\u001b[0m\u001b[1;33m]\u001b[0m\u001b[1;33m[\u001b[0m\u001b[1;34m'location'\u001b[0m\u001b[1;33m]\u001b[0m\u001b[1;33m[\u001b[0m\u001b[1;34m'lng'\u001b[0m\u001b[1;33m]\u001b[0m\u001b[1;33m\u001b[0m\u001b[0m\n\u001b[0m\u001b[1;32m     11\u001b[0m         \u001b[0mlat\u001b[0m \u001b[1;33m=\u001b[0m \u001b[0mgetlnglat\u001b[0m\u001b[1;33m(\u001b[0m\u001b[0mb\u001b[0m\u001b[1;33m)\u001b[0m\u001b[1;33m[\u001b[0m\u001b[1;34m'result'\u001b[0m\u001b[1;33m]\u001b[0m\u001b[1;33m[\u001b[0m\u001b[1;34m'location'\u001b[0m\u001b[1;33m]\u001b[0m\u001b[1;33m[\u001b[0m\u001b[1;34m'lat'\u001b[0m\u001b[1;33m]\u001b[0m\u001b[1;33m\u001b[0m\u001b[0m\n\u001b[1;32m     12\u001b[0m         \u001b[0mstr_temp\u001b[0m \u001b[1;33m=\u001b[0m \u001b[1;34m'{\"cinemaname\":'\u001b[0m\u001b[1;33m+\u001b[0m \u001b[0mstr\u001b[0m\u001b[1;33m(\u001b[0m\u001b[0mb\u001b[0m\u001b[1;33m)\u001b[0m\u001b[1;33m+\u001b[0m \u001b[1;34m',\"lat\":'\u001b[0m \u001b[1;33m+\u001b[0m \u001b[0mstr\u001b[0m\u001b[1;33m(\u001b[0m\u001b[0mlat\u001b[0m\u001b[1;33m)\u001b[0m \u001b[1;33m+\u001b[0m \u001b[1;34m',\"lng\":'\u001b[0m \u001b[1;33m+\u001b[0m \u001b[0mstr\u001b[0m\u001b[1;33m(\u001b[0m\u001b[0mlng\u001b[0m\u001b[1;33m)\u001b[0m \u001b[1;33m+\u001b[0m \u001b[1;34m',\"count\":'\u001b[0m \u001b[1;33m+\u001b[0m \u001b[0mstr\u001b[0m\u001b[1;33m(\u001b[0m\u001b[0mc\u001b[0m\u001b[1;33m)\u001b[0m \u001b[1;33m+\u001b[0m\u001b[1;34m'},'\u001b[0m\u001b[1;33m\u001b[0m\u001b[0m\n",
      "\u001b[0;31mTypeError\u001b[0m: list indices must be integers, not str"
     ]
    }
   ],
   "source": [
    "file = open(r'E:/MoiveData/treatment/point.json','w')\n",
    "with open('E:/MoiveData/treatment/data1.csv') as csvfile:\n",
    "    reader = csv.reader(csvfile)\n",
    "    for line in reader:\n",
    "        print line\n",
    "        if reader.line_num == 0:\n",
    "            continue\n",
    "        b = line[1].strip()   \n",
    "        c = line[0].strip()\n",
    "        lng = getlnglat(b)['result']['location']['lng']\n",
    "        lat = getlnglat(b)['result']['location']['lat'] \n",
    "        str_temp = '{\"cinemaname\":'+ str(b)+ ',\"lat\":' + str(lat) + ',\"lng\":' + str(lng) + ',\"count\":' + str(c) +'},'\n",
    "        file.write(str_temp)\n",
    "        print str_temp\n",
    "file.close() "
   ]
  },
  {
   "cell_type": "code",
   "execution_count": null,
   "metadata": {
    "collapsed": true
   },
   "outputs": [],
   "source": []
  }
 ],
 "metadata": {
  "kernelspec": {
   "display_name": "Python 2",
   "language": "python",
   "name": "python2"
  },
  "language_info": {
   "codemirror_mode": {
    "name": "ipython",
    "version": 2
   },
   "file_extension": ".py",
   "mimetype": "text/x-python",
   "name": "python",
   "nbconvert_exporter": "python",
   "pygments_lexer": "ipython2",
   "version": "2.7.13"
  }
 },
 "nbformat": 4,
 "nbformat_minor": 2
}
